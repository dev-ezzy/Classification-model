{
 "cells": [
  {
   "cell_type": "markdown",
   "metadata": {},
   "source": [
    "# Project title: TANZANIA WATER WELL PUMP STATUS PREDICTION \n",
    "\n",
    "### PROJECT BY: EZRA KIPCHIRCHIR BETT\n",
    "# PROJECT OVERVIEW\n",
    "The history of water supply in Tanzania reflects a complex narrative shaped by geographical, social, and economic factors. Tanzania, endowed with abundant water resources from its lakes, rivers, and underground aquifers, initially faced limited challenges in providing adequate water to its population. This initiative responds to the pressing need for efficient maintenance and management of water infrastructure to ensure reliable access to clean water across various regions in Tanzania. By analyzing historical data encompassing pump functionality, geographical attributes, maintenance records, and local demographics, this project seeks to predict potential pump failures, malfunctions, or required maintenance, enabling proactive interventions to sustain a consistent water supply.\n",
    "#\n",
    "The project's ultimate goal is to create a scalable and adaptable predictive tool that aids decision-makers and maintenance teams in identifying potential issues with water pumps in advance. This predictive capability will empower stakeholders to optimize resource allocation, prioritize maintenance efforts, reduce downtime, and ensure sustainable water access for communities across Tanzania, thereby contributing to improved water infrastructure management and service delivery.\n",
    "#\n",
    "\n",
    "The project's innovative approach not only focuses on predictive analytics but also emphasizes community engagement and empowerment. Through partnerships with local stakeholders and communities, the project aims to integrate qualitative data, such as user feedback and community perceptions, into the predictive model. This inclusive strategy ensures that the tool not only relies on quantitative metrics but also incorporates the invaluable insights and experiences of those directly impacted by water pump functionality. By harnessing the collective knowledge of both data-driven insights and community perspectives, the project seeks to develop a holistic and robust solution that not only predicts pump statuses but also fosters a more participatory and sustainable approach to water infrastructure management in Tanzania.\n",
    "# INTRODUCTION\n",
    "This a supervised Machine Learning project aimed at predicting conditions of water pumps located in water wells around the region of Tanzania. Tanzania is a developing country located in the East African region neighboring Kenya and Uganda. This machine learning model focuses on predicting whether a pump is functional, non functional, or functional and needs repair. Our research is based on a dataset collected by GeoData Consultants Ltd obtained from Taarifa platform that collects and shares data about water points and their status, including functionality and repairs. GeoData Consultants Ltd is a geo-spatial consultancy firm that specializes in providing comprehensive and innovative solutions using geographical data and spatial analysis techniques. Their expertise lies in leveraging geographic information systems (GIS), remote sensing, and other spatial technologies to offer valuable insights and solutions across various industries.\n",
    "#\n",
    "Since Tanzania is a developing country its water delivery infrastructure is still very low and this leads to low supply of water to the Tanzanian residents. This project is aimed at using geodata about pumps in use and their attributes to provide insight to Tanzania government represented by the Ministry of water and sanitation if a water pump is functional, not functional or needs repair. This is to help towards curbing water shortage in the country and ensuring each and ever\n",
    "## Challenges\n",
    "In a developing country like Tanzania, ensuring clean and accessible piped water faces numerous challenges. Some of these challenges include:\n",
    "#\n",
    "1.`Infrastructure Deficiency`: Many areas lack the necessary infrastructure for piped water systems. Remote or rural areas might not have pipelines or water treatment facilities, making it difficult to distribute clean water to these regions.\n",
    "#\n",
    "2.`Limited Access to Technology`: Developing countries may face limitations in accessing advanced technology for water treatment and distribution.\n",
    "#\n",
    "3.`Financial Constraints`: Funding constraints often limit the government's ability to invest in water infrastructure and maintenance.\n",
    "#\n",
    "4.`Population Growth`: Rapid population growth strains existing water resources and infrastructure. As urbanization increases, the demand for water rises, putting pressure on already limited water sources and distribution systems.\n",
    "#\n",
    "5 `Poor Maintenance`: Existing water infrastructure might suffer from poor maintenance due to a lack of resources or skilled personnel.\n",
    "## Proposed solutions\n",
    "1.Build a predictive machine learning model that predicts whether a pump is functional , not functional or functioning but needs repair in orde to reduce water shortage due to failure of pumps\n",
    "#\n",
    "2.Identify features or properties that lead to these water related problems and adress them\n",
    "#\n",
    "3.Identify regions that suffer most from these challenges so we can have a map or ways on how to improve their status.\n",
    "#\n",
    "4.Investigate whether the infrastructure available is enough to meet the people's need \n",
    "# PROBLEM STATEMENT\n",
    "The provision of clean and sustainable water access remains a critical challenge in Tanzania, with a vast network of water pumps serving communities across the country. However, the operational status of these pumps fluctuates, leading to intermittent water supply and hindering communities' access to safe drinking water. This project addresses the pressing need to develop a robust machine learning classification model capable of accurately predicting the operational status of water pumps in Tanzania.\n",
    "#\n",
    "The project scope focuses on harnessing historical data encompassing pump functionality, geographical features, maintenance records, and regional demographics to train and validate a predictive model. The objective is to accurately classify water pumps into different status categories, including 'functional,' 'functional needs repair,' and 'non-functional.' A successful model will enable stakeholders and decision-makers to anticipate potential pump failures or maintenance requirements proactively, thus optimizing resource allocation, reducing downtime, and ensuring sustained water access for Tanzanian communities.\n",
    "## DATA UNDERSTANDING\n",
    "Data understanding involves comprehending the dataset's structure, contents, and potential insights, examining features and their relationships to extract valuable information for analysis or modeling purposes.\n",
    "#\n",
    "-`Source` - The dataset originates from Taarifa, a platform collecting reports on infrastructure and services, particularly focused on water points. This data was compiled by GeoData company limited.\n",
    "#\n",
    "-`Components`- This dataset consists of 59400 rows and 41 columns of data.\n",
    "#### Column Description\n",
    "amount_tsh - Total static head (amount water available to waterpoint)<br>\n",
    "date_recorded - The date the row was entered<br>\n",
    "funder - Who funded the well\n",
    "gps_height - Altitude of the well<br>\n",
    "installer - Organization that installed the well<br>\n",
    "longitude - GPS coordinate<br>\n",
    "latitude - GPS coordinate<br>\n",
    "wpt_name - Name of the waterpoint if there is one<br>\n",
    "num_private -number of private water points<br>\n",
    "basin - Geographic water basin<br>\n",
    "subvillage - Geographic location<br>\n",
    "region - Geographic location<br>\n",
    "region_code - Geographic location (coded)<br>\n",
    "district_code - Geographic location (coded)<br>\n",
    "lga - Geographic location<br>\n",
    "ward - Geographic location<br>\n",
    "population - Population around the well<br>\n",
    "public_meeting - True/False<br>\n",
    "recorded_by - Group entering this row of data<br>\n",
    "scheme_management - Who operates the waterpoint<br>\n",
    "scheme_name - Who operates the waterpoint<br>\n",
    "permit - If the waterpoint is permitted<br>\n",
    "construction_year - Year the waterpoint was constructed<br>\n",
    "extraction_type - The kind of extraction the waterpoint uses<br>\n",
    "extraction_type_group - The kind of extraction the waterpoint uses<br>\n",
    "extraction_type_class - The kind of extraction the waterpoint uses<br>\n",
    "management - How the waterpoint is managed<br>\n",
    "management_group - How the waterpoint is managed<br>\n",
    "payment - What the water costs<br>\n",
    "payment_type - What the water costs<br>\n",
    "water_quality - The quality of the water<br>\n",
    "quality_group - The quality of the water<br>\n",
    "quantity - The quantity of water<br>\n",
    "quantity_group - The quantity of water<br>\n",
    "source - The source of the water<br>\n",
    "source_type - The source of the water<br>\n",
    "source_class - The source of the water<br>\n",
    "waterpoint_type - The kind of waterpoint<br>\n",
    "waterpoint_type_group - The kind of waterpoint\n",
    "\n",
    "\n",
    "\n",
    "## 1. Importing all the necessary modules for our project"
   ]
  },
  {
   "cell_type": "code",
   "execution_count": null,
   "metadata": {},
   "outputs": [],
   "source": [
    "#import modules\n",
    "import pandas as pd \n",
    "import numpy as np \n",
    "import seaborn as sns \n",
    "import matplotlib.pyplot as plt \n",
    "import descartes\n",
    "from shapely.geometry import Point, Polygon\n",
    "from sklearn.model_selection import train_test_split\n",
    "from sklearn.pipeline import Pipeline\n",
    "from sklearn.preprocessing import OneHotEncoder, StandardScaler, MinMaxScaler\n",
    "from sklearn.impute import SimpleImputer\n",
    "from sklearn.compose import ColumnTransformer\n",
    "from sklearn.tree import DecisionTreeClassifier\n",
    "from sklearn.linear_model import LogisticRegression\n",
    "from data_understanding import data_summary\n",
    "import warnings\n",
    "warnings.filterwarnings(\"ignore\")"
   ]
  },
  {
   "cell_type": "markdown",
   "metadata": {},
   "source": [
    "### 1.1 checking our data"
   ]
  },
  {
   "cell_type": "code",
   "execution_count": null,
   "metadata": {},
   "outputs": [],
   "source": [
    "path = \"Test_set_values.csv\"\n",
    "summary = data_summary(path)"
   ]
  },
  {
   "cell_type": "code",
   "execution_count": null,
   "metadata": {},
   "outputs": [],
   "source": [
    "path_2 = \"702ddfc5-68cd-4d1d-a0de-f5f566f76d91.csv\"\n",
    "summary_2 = data_summary(path_2)"
   ]
  },
  {
   "cell_type": "code",
   "execution_count": null,
   "metadata": {},
   "outputs": [],
   "source": [
    "path_3 = \"4910797b-ee55-40a7-8668-10efd5c1b960.csv\"\n",
    "data_summary(path_3)"
   ]
  },
  {
   "cell_type": "markdown",
   "metadata": {},
   "source": [
    "##  2. Merging our target classes DataFrame  with training set DataFrame\n",
    "We are using the id column to join the two DataFrames using the \"inner\" method "
   ]
  },
  {
   "cell_type": "code",
   "execution_count": null,
   "metadata": {},
   "outputs": [],
   "source": [
    "df_1 = pd.read_csv(\"Test_set_values.csv\", index_col= 0)\n",
    "df_2 = pd.read_csv(\"4910797b-ee55-40a7-8668-10efd5c1b960.csv\", index_col= 0)\n",
    "df_3 = pd.read_csv(\"702ddfc5-68cd-4d1d-a0de-f5f566f76d91.csv\", index_col= 0)"
   ]
  },
  {
   "cell_type": "markdown",
   "metadata": {},
   "source": [
    "Checking if columns of our two data sets are similar"
   ]
  },
  {
   "cell_type": "code",
   "execution_count": null,
   "metadata": {},
   "outputs": [],
   "source": [
    "assert (df_2.columns  == df_3.columns).any()"
   ]
  },
  {
   "cell_type": "code",
   "execution_count": null,
   "metadata": {},
   "outputs": [],
   "source": [
    "#creating a join\n",
    "water_data = pd.merge(df_1, df_2, on= \"id\", how= \"inner\")\n",
    "#seeing the first five rowa\n",
    "water_data.head()"
   ]
  },
  {
   "cell_type": "markdown",
   "metadata": {},
   "source": [
    "Inspecting our new merged data frame"
   ]
  },
  {
   "cell_type": "code",
   "execution_count": null,
   "metadata": {},
   "outputs": [],
   "source": [
    "#\n",
    "water_data.info()"
   ]
  },
  {
   "cell_type": "markdown",
   "metadata": {},
   "source": [
    "Summary statistics for our numerical columns in our dataset"
   ]
  },
  {
   "cell_type": "code",
   "execution_count": null,
   "metadata": {},
   "outputs": [],
   "source": [
    "#getting summary statistics for our numeric columns\n",
    "water_data.describe()"
   ]
  },
  {
   "cell_type": "markdown",
   "metadata": {},
   "source": [
    "Changing dates to DateTime object"
   ]
  },
  {
   "cell_type": "code",
   "execution_count": null,
   "metadata": {},
   "outputs": [],
   "source": [
    "#converting dates from objects to DateTime data types\n",
    "water_data[\"construction_year\"] = pd.to_datetime(water_data[\"construction_year\"])\n",
    "water_data[\"date_recorded\"] = pd.to_datetime(water_data[\"date_recorded\"])"
   ]
  },
  {
   "cell_type": "markdown",
   "metadata": {},
   "source": [
    "## 3 Description of columns/ column understanding\n",
    "#### Understanding what our columns contain and checking the similarities between colummns"
   ]
  },
  {
   "cell_type": "code",
   "execution_count": null,
   "metadata": {},
   "outputs": [],
   "source": [
    "#getting columns\n",
    "water_data.columns"
   ]
  },
  {
   "cell_type": "markdown",
   "metadata": {},
   "source": [
    "There are a few columns that are missing values but population and scheme_name are missing a lot(almost 21,000 records). Since scheme_managment provides the close to the same information according to the data documentation, we will drop scheme_name\n"
   ]
  },
  {
   "cell_type": "code",
   "execution_count": null,
   "metadata": {},
   "outputs": [],
   "source": [
    "#dropping scheme_name\n",
    "water_data = water_data.drop([\"scheme_name\"], axis=1)"
   ]
  },
  {
   "cell_type": "markdown",
   "metadata": {},
   "source": [
    "I have also noticed that some of the features have almost similar discriptions and values. We will be check these to see if the columns are duplicates and if so  get rid of some of them to reduce feature dimensionality in our analysis.\n",
    "\n",
    "I will write a helper function to help us get the feature name, number of unique values, the unique values and number of missing or Nan values. This function takes in a column or columns iterates through it and prints out the specified fields above"
   ]
  },
  {
   "cell_type": "code",
   "execution_count": null,
   "metadata": {},
   "outputs": [],
   "source": [
    "#Helper function\n",
    "def column_checking(column):\n",
    "    for i in column:\n",
    "        print(\"Feature Name:\", i)\n",
    "        print(\"Number of Unique Values:\", len(water_data[i].unique()))\n",
    "        print(\"Unique Values:\", water_data[i].unique())\n",
    "        print(\"Missing Values:\", water_data[i].isna().sum())\n",
    "        print('\\n')\n",
    "        "
   ]
  },
  {
   "cell_type": "markdown",
   "metadata": {},
   "source": [
    "#### 3.1 Funder and installer\n",
    "These two columns talk about who funded the well and who installed the well"
   ]
  },
  {
   "cell_type": "code",
   "execution_count": null,
   "metadata": {},
   "outputs": [],
   "source": [
    "column_checking([\"funder\", \"installer\"])"
   ]
  },
  {
   "cell_type": "markdown",
   "metadata": {},
   "source": [
    "##### We are going to drop funder since it has less number of unique values. \"installer\" column has more unique values meaning it explains more of the data"
   ]
  },
  {
   "cell_type": "code",
   "execution_count": null,
   "metadata": {},
   "outputs": [],
   "source": [
    "water_data = water_data.drop(\"funder\", axis = 1)"
   ]
  },
  {
   "cell_type": "markdown",
   "metadata": {},
   "source": [
    "They both seem to have the same unique values and the funder column has more missing values than the installer column. The funder column also seems to have no impact in our analysis and we are going to drop it and use the installer column"
   ]
  },
  {
   "cell_type": "markdown",
   "metadata": {},
   "source": [
    "#### 3.2 Subvillage/ region/ region_code/ district_code/ lga/ ward\n",
    "#### Contains information about different aspects of the location hierarchy."
   ]
  },
  {
   "cell_type": "code",
   "execution_count": null,
   "metadata": {},
   "outputs": [],
   "source": [
    "column_checking([\"subvillage\", \"region\", \"region_code\", \"district_code\"])"
   ]
  },
  {
   "cell_type": "markdown",
   "metadata": {},
   "source": [
    "All the above columns represent the geographical location of water wells in Tanzania.The subvillage column contains 19288 unique values  which makes it hard for analysis especially during one-hot encoding. Also this column is not relevant in our analysis since name of village has no influence in predicting the status of a pump. Both region code and district_code are in numbers making it hard to decipher information from it so we are going to drop them.This leaves with region column with 21 unique values and 0 missing data. We are going to keep this column as it is important for our analysis."
   ]
  },
  {
   "cell_type": "code",
   "execution_count": null,
   "metadata": {},
   "outputs": [],
   "source": [
    "#dropping subvillage,region_code, district_code, \n",
    "water_data = water_data.drop([\"subvillage\", \"region_code\", \"district_code\"], axis= 1)"
   ]
  },
  {
   "cell_type": "code",
   "execution_count": null,
   "metadata": {},
   "outputs": [],
   "source": [
    "#checking lga column\n",
    "column_checking([\"lga\"])"
   ]
  },
  {
   "cell_type": "markdown",
   "metadata": {},
   "source": [
    "\"LGA\" stands for \"Local Government Area.\" It refers to a specific administrative division or region within a country or a larger administrative boundary. Represents an administrative or governmental subdivision within a country, typically smaller than a state or province. We are going to keep it and use it in our EDA and drop it later when modeling"
   ]
  },
  {
   "cell_type": "code",
   "execution_count": null,
   "metadata": {},
   "outputs": [],
   "source": [
    "column_checking([\"ward\"])"
   ]
  },
  {
   "cell_type": "code",
   "execution_count": null,
   "metadata": {},
   "outputs": [],
   "source": [
    "water_data = water_data.drop(\"ward\", axis= 1)"
   ]
  },
  {
   "cell_type": "markdown",
   "metadata": {},
   "source": [
    "The \"ward \" column has 2092 distinct strings making it hard for our analysis.. We drop it.\n",
    "\n",
    "#### 3.4 extraction_type/extraction_type_group/extraction_type_class\n",
    "##### often provide hierarchical information about how water is extracted or the mechanism used for extraction. \n",
    "\n"
   ]
  },
  {
   "cell_type": "code",
   "execution_count": null,
   "metadata": {},
   "outputs": [],
   "source": [
    "column_checking([\"extraction_type\",\"extraction_type_group\", \"extraction_type_class\"])"
   ]
  },
  {
   "cell_type": "markdown",
   "metadata": {},
   "source": [
    "All the three columns contain thr same  data. Extraction_type is the super class and the other two are subsets. Extraction type has different man-powered mechanisms assigned as other many times and in the real sense they mean the same thing(There is no pump). \"Extraction_type_group\" column  has \"other\" as a unique value meaning all the man-powered mechanisms has been summed up into one category. We are going to use this column for our analysis and drop the other two columns."
   ]
  },
  {
   "cell_type": "code",
   "execution_count": null,
   "metadata": {},
   "outputs": [],
   "source": [
    "#dropping extraction_type and extraction_type_class\n",
    "water_data = water_data.drop([\"extraction_type\", \"extraction_type_class\"], axis= 1)"
   ]
  },
  {
   "cell_type": "markdown",
   "metadata": {},
   "source": [
    "### 3.5 scheme_managemnet/ mnanagement/ management_group\n",
    "#### "
   ]
  },
  {
   "cell_type": "code",
   "execution_count": null,
   "metadata": {},
   "outputs": [],
   "source": [
    "#checking management, scheme_management, management\n",
    "column_checking([\"management\", \"scheme_management\", \"management_group\"])"
   ]
  },
  {
   "cell_type": "markdown",
   "metadata": {},
   "source": [
    " ##### These columns also almost similar except for a few features in the data. The management column is complete with no missing values, \"Scheme_management\" the same except it has missing values so we drop it. The \"management_group\" column has summarized the whole categories in the management group so we are going to keep it and use it during one-hot encoding instead of management due to computational power available but we are gonna use them for analysis."
   ]
  },
  {
   "cell_type": "code",
   "execution_count": null,
   "metadata": {},
   "outputs": [],
   "source": [
    "#dropping scheme_management\n",
    "water_data = water_data.drop(\"scheme_management\", axis = 1)"
   ]
  },
  {
   "cell_type": "markdown",
   "metadata": {},
   "source": [
    "### 3.6 payment/ payment_type"
   ]
  },
  {
   "cell_type": "code",
   "execution_count": null,
   "metadata": {},
   "outputs": [],
   "source": [
    "#checking payment and payment_type\n",
    "column_checking([\"payment\", \"payment_type\"])"
   ]
  },
  {
   "cell_type": "markdown",
   "metadata": {},
   "source": [
    "##### These columns are similar except for how values have been named. We are going to drop payment and remain with payment_type"
   ]
  },
  {
   "cell_type": "code",
   "execution_count": null,
   "metadata": {},
   "outputs": [],
   "source": [
    "water_data = water_data.drop(\"payment\", axis= 1)"
   ]
  },
  {
   "cell_type": "markdown",
   "metadata": {},
   "source": [
    "### 3.7 water quality/ quality_group"
   ]
  },
  {
   "cell_type": "code",
   "execution_count": null,
   "metadata": {},
   "outputs": [],
   "source": [
    "#checking quality and quality_group\n",
    "column_checking([\"water_quality\", \"quality_group\"])"
   ]
  },
  {
   "cell_type": "markdown",
   "metadata": {},
   "source": [
    "##### \"water_quality\" column has two more values talking about abandoned water. We will keep this column and analyze it better and drop the \"quality_group\" column"
   ]
  },
  {
   "cell_type": "code",
   "execution_count": null,
   "metadata": {},
   "outputs": [],
   "source": [
    "water_data = water_data.drop(\"quality_group\", axis= 1)"
   ]
  },
  {
   "cell_type": "markdown",
   "metadata": {},
   "source": [
    "### 3.8 quantity / quantity_group"
   ]
  },
  {
   "cell_type": "code",
   "execution_count": null,
   "metadata": {},
   "outputs": [],
   "source": [
    "#checking quantity and quantity_group\n",
    "column_checking([\"quantity\", \"quantity_group\"])"
   ]
  },
  {
   "cell_type": "markdown",
   "metadata": {},
   "source": [
    "#### They both convey the same thing so we drop one"
   ]
  },
  {
   "cell_type": "code",
   "execution_count": null,
   "metadata": {},
   "outputs": [],
   "source": [
    "water_data = water_data.drop(\"quantity_group\", axis= 1)"
   ]
  },
  {
   "cell_type": "markdown",
   "metadata": {},
   "source": [
    "### 3.9 source/ source_type/ source_class"
   ]
  },
  {
   "cell_type": "code",
   "execution_count": null,
   "metadata": {},
   "outputs": [],
   "source": [
    "#checking water source\n",
    "column_checking([\"source\", \"source_type\", \"source_class\"])"
   ]
  },
  {
   "cell_type": "markdown",
   "metadata": {},
   "source": [
    "##### The \"source column has ten distinct values making it a superclass of the \"source_type\" column. The \"source_class\" column only tells us if the water source is river or a well. i.e surface or ground. We are going to drop the \"source_type\" column and keep the other two but we are not going to use \"source_class\" in our models but it can come handy in exploratory analysis"
   ]
  },
  {
   "cell_type": "code",
   "execution_count": null,
   "metadata": {},
   "outputs": [],
   "source": [
    "water_data = water_data.drop(\"source_type\", axis= 1)"
   ]
  },
  {
   "cell_type": "markdown",
   "metadata": {},
   "source": [
    "### 3.10 waterpoint_type / waterpoint_type_group"
   ]
  },
  {
   "cell_type": "code",
   "execution_count": null,
   "metadata": {},
   "outputs": [],
   "source": [
    "column_checking([\"waterpoint_type\", \"waterpoint_type_group\", \"wpt_name\"])"
   ]
  },
  {
   "cell_type": "markdown",
   "metadata": {},
   "source": [
    "##### \"waterpoint_type\" column has an extra feature than the other column so we are gonna drop it"
   ]
  },
  {
   "cell_type": "code",
   "execution_count": null,
   "metadata": {},
   "outputs": [],
   "source": [
    "#dropping water_type_group\n",
    "water_data = water_data.drop(\"waterpoint_type_group\", axis= 1)"
   ]
  },
  {
   "cell_type": "markdown",
   "metadata": {},
   "source": [
    "### 3.11 funder / installer"
   ]
  },
  {
   "cell_type": "markdown",
   "metadata": {},
   "source": [
    "\n",
    "##### Now that we are done with similar columns lets inspect other columns to know if they are relevant to us before we sort missing values. We are going to print the first five rows to see the columns we are remaing with"
   ]
  },
  {
   "cell_type": "code",
   "execution_count": null,
   "metadata": {},
   "outputs": [],
   "source": [
    "water_data.head()"
   ]
  },
  {
   "cell_type": "code",
   "execution_count": null,
   "metadata": {},
   "outputs": [],
   "source": [
    "water_data.info()"
   ]
  },
  {
   "cell_type": "markdown",
   "metadata": {},
   "source": [
    "### 3.12 Looking at other columns"
   ]
  },
  {
   "cell_type": "markdown",
   "metadata": {},
   "source": [
    "### amount_tsh(Total_statistic_head)\n",
    "#### \"Total Static Head\" or \"Total Static Head (TSH).\" It refers to the total amount of water available or stored at a water point, typically in a static or non-moving state. This value signifies the water's pressure at the water point or the maximum height that the water can reach above the water source."
   ]
  },
  {
   "cell_type": "code",
   "execution_count": null,
   "metadata": {},
   "outputs": [],
   "source": [
    "water_data[\"amount_tsh\"].max()"
   ]
  },
  {
   "cell_type": "markdown",
   "metadata": {},
   "source": [
    "The total statistic per head column has 41639 records indicating the static_head  per well is 0. We will have to further analyze this column with other columns like water quality to determine why the many zeros and if this column is relevant for our analysis\n",
    "\n",
    "### 3.13 gps_height- Altitude of the well\n",
    "##### This column typically represents the altitude or elevation of a well or a water point above sea level, recorded using GPS (Global Positioning System) technology. This value signifies the height or vertical distance of the water point from the Earth's mean sea level.t is usually measured in meters or feet, denoting the well's position in relation to sea level."
   ]
  },
  {
   "cell_type": "code",
   "execution_count": null,
   "metadata": {},
   "outputs": [],
   "source": [
    "# water_data[\"gps_height\"].value_counts()\n",
    "sns.histplot(x = \"gps_height\", data = water_data, bins = 20);"
   ]
  },
  {
   "cell_type": "markdown",
   "metadata": {},
   "source": [
    "##### This column is important in understanding the altitudes of our water wells and its relation tour our analysis. We will keep it for use in our EDA.\n",
    "\n",
    "### 3.14 longitude/ latitude\n",
    "##### This column typically represents the geographical coordinates of water wells or water points, recorded using GPS (Global Positioning System) technology. These coordinates provide the specific geographic location of the water points on the Earth's surface.We are going to use it in our exploratory analysis but not in our modeling so we keep it for now\n",
    "\n",
    "### 3.15 num_private - Number of private water wells\n",
    "##### This column in water-related datasets often represents the number of privately owned water points or the number of privately owned water sources associated with a particular water point."
   ]
  },
  {
   "cell_type": "code",
   "execution_count": null,
   "metadata": {},
   "outputs": [],
   "source": [
    "column_checking([\"num_private\"])"
   ]
  },
  {
   "cell_type": "markdown",
   "metadata": {},
   "source": [
    "##### It purely contains  numbers stating  the number of wells owned privately in the region. This column might lack explicit information, making its interpretation challenging so we drop it.\n"
   ]
  },
  {
   "cell_type": "code",
   "execution_count": null,
   "metadata": {},
   "outputs": [],
   "source": [
    "water_data = water_data.drop(\"num_private\", axis = 1)"
   ]
  },
  {
   "cell_type": "markdown",
   "metadata": {},
   "source": [
    "### 3.16 wpt_name - Name of the waterpoint if there is one\n",
    "\n",
    "#####  It contains textual information that identifies or labels individual water points, wells, or water sources, if such names exist.\n"
   ]
  },
  {
   "cell_type": "code",
   "execution_count": null,
   "metadata": {},
   "outputs": [],
   "source": [
    "column_checking([\"wpt_name\"])"
   ]
  },
  {
   "cell_type": "markdown",
   "metadata": {},
   "source": [
    "##### The column has 37400 records of unique water names in Tanzania. This column is helps us know the number of wells under study and their names but not useful in our analysis so we drop it"
   ]
  },
  {
   "cell_type": "code",
   "execution_count": null,
   "metadata": {},
   "outputs": [],
   "source": [
    "water_data = water_data.drop(\"wpt_name\", axis= 1)"
   ]
  },
  {
   "cell_type": "markdown",
   "metadata": {},
   "source": [
    "### 3.17 Public_meeting\n",
    "##### The \"public_meeting\" column in water-related datasets typically represents whether there was a public meeting held to discuss water issues or water-related projects in the area associated with a particular water point."
   ]
  },
  {
   "cell_type": "code",
   "execution_count": null,
   "metadata": {},
   "outputs": [],
   "source": [
    "water_data[\"public_meeting\"].value_counts()"
   ]
  },
  {
   "cell_type": "markdown",
   "metadata": {},
   "source": [
    "##### We are going to keep this column for our analysis. It helps us further understand our analysis\n",
    "\n",
    "### 3.18 recorded_by\n",
    "##### Represents the entity or group responsible for entering or recording the data for each row in the dataset. This column often contains information about the organization, individual, or group that performed the data entry or data collection process.\n",
    "\n"
   ]
  },
  {
   "cell_type": "code",
   "execution_count": null,
   "metadata": {},
   "outputs": [],
   "source": [
    "water_data[\"recorded_by\"].value_counts()"
   ]
  },
  {
   "cell_type": "markdown",
   "metadata": {},
   "source": [
    "##### This dataset was collected by the GeoData Consultants Ltd. Since we already know the group responsible for this data we can drop it since we wouldn't need it in our analysis"
   ]
  },
  {
   "cell_type": "code",
   "execution_count": null,
   "metadata": {},
   "outputs": [],
   "source": [
    "water_data = water_data.drop(\"recorded_by\", axis= 1)"
   ]
  },
  {
   "cell_type": "markdown",
   "metadata": {},
   "source": [
    "### 3.19 permit\n",
    "##### What this column indicates is whether a water point or water source has the necessary legal or official permit or authorization to operate."
   ]
  },
  {
   "cell_type": "code",
   "execution_count": null,
   "metadata": {},
   "outputs": [],
   "source": [
    "water_data[\"permit\"].value_counts()"
   ]
  },
  {
   "cell_type": "markdown",
   "metadata": {},
   "source": [
    "### 3.20 population\n",
    "##### This column refers to the number of people residing within a certain proximity to the well location. It is crucial for assessing water demand in a particular area\n"
   ]
  },
  {
   "cell_type": "code",
   "execution_count": null,
   "metadata": {},
   "outputs": [],
   "source": [
    "water_data[\"population\"].hist(figsize = (8,5));"
   ]
  },
  {
   "cell_type": "markdown",
   "metadata": {},
   "source": [
    "##### It is important column since it helps in our analysis of predicting whether a pump is functional, non-functional or functional but needs repair\n",
    "\n",
    "### 3.21 date_recorded, construction_year, id\n",
    "\n",
    "##### This columns are not important or needed for our analysis so we drop them"
   ]
  },
  {
   "cell_type": "code",
   "execution_count": null,
   "metadata": {},
   "outputs": [],
   "source": [
    "water_data = water_data.drop([\"date_recorded\", \"construction_year\"], axis= 1)"
   ]
  },
  {
   "cell_type": "markdown",
   "metadata": {},
   "source": [
    "##### Resetting our index so it can be on the same axis with other columns and dropping it since we don't need it in our analysis. "
   ]
  },
  {
   "cell_type": "code",
   "execution_count": null,
   "metadata": {},
   "outputs": [],
   "source": [
    "#reseting the index and dropping it\n",
    "water_data = water_data.reset_index(drop=True) \n"
   ]
  },
  {
   "cell_type": "markdown",
   "metadata": {},
   "source": [
    "#### Let us have a look on how our new data looks like after dropping the columns we did see not fit for our analysis. We are going to inspect the first five rows"
   ]
  },
  {
   "cell_type": "code",
   "execution_count": null,
   "metadata": {},
   "outputs": [],
   "source": [
    "#inspecting our new dataframe\n",
    "water_data.head()"
   ]
  },
  {
   "cell_type": "code",
   "execution_count": null,
   "metadata": {},
   "outputs": [],
   "source": [
    "#data info\n",
    "water_data.info()"
   ]
  },
  {
   "cell_type": "markdown",
   "metadata": {},
   "source": [
    "Summary statistics of our numeric columns"
   ]
  },
  {
   "cell_type": "code",
   "execution_count": null,
   "metadata": {},
   "outputs": [],
   "source": [
    "#summary statistics\n",
    "water_data.describe()"
   ]
  },
  {
   "cell_type": "markdown",
   "metadata": {},
   "source": [
    "The shape of our data"
   ]
  },
  {
   "cell_type": "code",
   "execution_count": null,
   "metadata": {},
   "outputs": [],
   "source": [
    "#shape\n",
    "water_data.shape"
   ]
  },
  {
   "cell_type": "markdown",
   "metadata": {},
   "source": [
    "We have 59400 rows and 21 columns in our data"
   ]
  },
  {
   "cell_type": "markdown",
   "metadata": {},
   "source": [
    "## 4. Dealing with missing values in our dataset.\n",
    "\n",
    "We have three columns with missing values which are \"installer\", \"public_meeting\" and \"permit\". All this columns are categorical so we can impute the missing values with the most frequent value in the columns. We are  going to use a simple imputer from sklearn module to help us do this job"
   ]
  },
  {
   "cell_type": "code",
   "execution_count": null,
   "metadata": {},
   "outputs": [],
   "source": [
    "#columns to impute\n",
    "columns_to_impute = [\"installer\",\"permit\", \"public_meeting\"]\n",
    "#using pipeline to fill missing values along with simple imputer\n",
    "pipeline_imputer = Pipeline( steps= [\n",
    "    (\"imputer\", SimpleImputer(strategy= \"most_frequent\"))\n",
    "                            ])\n",
    "#calling ColumnTransformer\n",
    "preprocessor = ColumnTransformer(transformers=[\n",
    "    (\"imputer\", pipeline_imputer, columns_to_impute)]\n",
    "                                )\n",
    "#fitting our data\n",
    "imputed_data = preprocessor.fit_transform(water_data)\n",
    "#putting our imputed columns into a DataFrame\n",
    "imputed_data = pd.DataFrame(imputed_data, columns= ([\"installer\", \"permit\", \"public_meeting\"]))"
   ]
  },
  {
   "cell_type": "markdown",
   "metadata": {},
   "source": [
    "We are going to drop the columns with missing values and replace them with our new imputed DataFrame. The new DataFrame contains the same values as the columns we are dropping but has been imputed and has no missing values."
   ]
  },
  {
   "cell_type": "code",
   "execution_count": null,
   "metadata": {},
   "outputs": [],
   "source": [
    "#dropping the initial columns\n",
    "water_data = water_data.drop([\"installer\", \"permit\", \"public_meeting\"], axis = 1)\n",
    "#concat the two df\n",
    "complete_data = pd.concat([water_data, imputed_data], axis= 1)\n",
    "#inspecting new dataframe\n",
    "complete_data.info()"
   ]
  },
  {
   "cell_type": "markdown",
   "metadata": {},
   "source": [
    "Perfecto! All our columns are now complete with none having any missing record. Our data is ready now for exploratory analysis but before that we are going to tweak some few columns. "
   ]
  },
  {
   "cell_type": "code",
   "execution_count": null,
   "metadata": {},
   "outputs": [],
   "source": [
    "#dict to replace\n",
    "to_replace = {\"Wami / Ruvu\": \"Wami\", \"Ruvuma / Southern Coast\": \"Ruvuma\"}\n",
    "complete_data.loc[:, \"basin\"].replace(to_replace)\n",
    "#replacing \"other - school\" with \"school\"\n",
    "complete_data.loc[:, \"management\"].replace(\"other - school\", \"School\", inplace = True)"
   ]
  },
  {
   "cell_type": "markdown",
   "metadata": {},
   "source": [
    "## 4.2 Inspecting outliers in our numerical columns"
   ]
  },
  {
   "cell_type": "code",
   "execution_count": null,
   "metadata": {},
   "outputs": [],
   "source": [
    "numeric = complete_data.select_dtypes(\"number\")\n",
    "fig, ax = plt.subplots(ncols=2, figsize = (15, 5))\n",
    "plt.suptitle(\"Checking outliers in our numeric columns\")\n",
    "sns.boxplot(numeric, showfliers = False, ax= ax[0]);\n",
    "sns.boxplot(numeric, showfliers = True, ax = ax[1])"
   ]
  },
  {
   "cell_type": "markdown",
   "metadata": {},
   "source": [
    "Our \"amount_sh\" column seems to have an outlier. The left plot shows how the numerical columns should behave without outliers and the right plot depicts the spread in our columns. We will sort the outlier in the affected column using the inter-quartile range method of solving outliers"
   ]
  },
  {
   "cell_type": "code",
   "execution_count": null,
   "metadata": {},
   "outputs": [],
   "source": [
    "#settting lower quantie\n",
    "low_quant = complete_data[\"amount_tsh\"].quantile(0.25)\n",
    "#setting upper quantile\n",
    "upp_quant = complete_data[\"amount_tsh\"].quantile(0.75)\n",
    "#inter-quartile range\n",
    "IQR = upp_quant - low_quant\n",
    "#creating the clipping points\n",
    "low_limit = low_quant - 1.5 * IQR\n",
    "upp_limit = upp_quant + 1.5 * IQR\n",
    "#clipping the outlier\n",
    "complete_data[\"amount_tsh\"].clip(lower = low_limit, upper = upp_limit, inplace=True)"
   ]
  },
  {
   "cell_type": "code",
   "execution_count": null,
   "metadata": {},
   "outputs": [],
   "source": [
    "complete_data[\"amount_tsh\"].max()"
   ]
  },
  {
   "cell_type": "markdown",
   "metadata": {},
   "source": [
    "# 5. Exploratory Data Analysis (EDA)\n",
    "#### Now that our data is clean and ready for use, we are going to start exploratory analysis of our data. Plotting graphs and visuals is the main thing we are doing here in order to further understand visually what our data is communicating.\n",
    "\n",
    "## 5.1 Univariate EDA\n",
    "\n",
    "##### Writting two helper functions to helps us plot countplots for our univariate analysis."
   ]
  },
  {
   "cell_type": "code",
   "execution_count": null,
   "metadata": {},
   "outputs": [],
   "source": [
    "#writting helper function to help us make x-axis countplots in our EDA process\n",
    "def sns_xcount(column , data):\n",
    "    sns.countplot(x = column, data = data)\n",
    "    plt.title(f\"{column} count in our data set\")\n",
    "    plt.show();\n",
    "\n",
    "#writting helper function to help us make y-axis countplots in our EDA process\n",
    "def sns_ycount(column , data):\n",
    "    sns.countplot(y = column, data = data)\n",
    "    plt.title(f\"{column} count in our data set\")\n",
    "    plt.show();\n",
    "\n"
   ]
  },
  {
   "cell_type": "markdown",
   "metadata": {},
   "source": [
    "##### The Distribution of our target class (\"status_group)"
   ]
  },
  {
   "cell_type": "code",
   "execution_count": null,
   "metadata": {},
   "outputs": [],
   "source": [
    "sns_xcount(\"status_group\", complete_data)"
   ]
  },
  {
   "cell_type": "markdown",
   "metadata": {},
   "source": [
    "##### We have three target class in our status column namely functional, non-functional and functional needs repair. The functional class is the highest with 32259 pumps followed by non-functional class with 22824 pumps and the least class is thefunctional needs repair with 4317 pumps\n",
    "\n",
    "##### The spread of our numerical columns"
   ]
  },
  {
   "cell_type": "code",
   "execution_count": null,
   "metadata": {},
   "outputs": [],
   "source": [
    "#numeric columns histograms\n",
    "complete_data.hist(figsize= (15, 10), bins= 100);"
   ]
  },
  {
   "cell_type": "markdown",
   "metadata": {},
   "source": [
    "The \"amount_tsh\" column typically represents the pressure exerted by a water column due to gravity and is usually measured in meters or feet. The top-left plot shows us that 0 \"amount_tsh\" is the most common value in our data. A value of 0, it often indicates that there is no static head or minimal pressure available at the water source and situation might imply several scenarios such as; insufficient water, non-functioning pump missing data or unknown values. I will analyze it further in our multivariate analysis\n",
    "\n",
    "Distribution of the altitude(\"gps_height) of the wells also has 0 as the highest group but has other values spread across a range of 0 to 2500metres above sea level.I will also analyze this column further since 0 might indicate a water source is at sea leavel or indicates missing values or unknown\n",
    "\n",
    "The \"population\" variable typically refers to the estimated or recorded number of people living in the vicinity or area surrounding a well or a water source. Zero is the popular group in this column also and this can indicate many things such as unhabited area or missing values etc. I will also do further analysis on this column\n",
    "\n",
    "#### basin - Geographic water basin"
   ]
  },
  {
   "cell_type": "code",
   "execution_count": null,
   "metadata": {},
   "outputs": [],
   "source": [
    "sns_ycount(\"basin\", complete_data)\n"
   ]
  },
  {
   "cell_type": "markdown",
   "metadata": {},
   "source": [
    "The water basins geographically located in Tanzania are nine in total. Lake Victoria is the largest in terms of body mass and Lake Rukwa holds the last position\n",
    "\n",
    "#### The regions under study"
   ]
  },
  {
   "cell_type": "code",
   "execution_count": null,
   "metadata": {},
   "outputs": [],
   "source": [
    "sns_ycount(\"region\", complete_data)"
   ]
  },
  {
   "cell_type": "markdown",
   "metadata": {},
   "source": [
    "We have 21 regions under study in our dataset. These regions represent where our water wells under research are located. Iringa has the most water points indicating that there is a large population living in this region. Dar es Salaam has the least count of water wells and this can indicate low population, insufficient water or poor water quality and quantity in this region.\n",
    "\n",
    "### Management"
   ]
  },
  {
   "cell_type": "code",
   "execution_count": null,
   "metadata": {},
   "outputs": [],
   "source": [
    "sns_ycount(\"management\", complete_data);\n"
   ]
  },
  {
   "cell_type": "markdown",
   "metadata": {},
   "source": [
    "The management columns tells us about the people incharge of running the water wells located in Tanzania. Most water wells in Tanzania are managed by the Village Water Community(VWC). This makes a lot of sense sinse Tanzania is a communist country. School and trust hold the least share for the water well management.\n",
    "The abbreviations of the values are explained here;\n",
    "  1. VWC - Village Water Community \n",
    "  2. WUG - Water User Group\n",
    "  3. WUA - Water User Association\n",
    "Both WUG and WUA are mainly involved in activities such as irrigation, maintaining water infrastructure, resolving issues related to water usage among other things\n",
    "\n",
    "### Management groups"
   ]
  },
  {
   "cell_type": "code",
   "execution_count": null,
   "metadata": {},
   "outputs": [],
   "source": [
    "sns_xcount(\"management_group\", complete_data)"
   ]
  },
  {
   "cell_type": "markdown",
   "metadata": {},
   "source": [
    "When the management group are further categorised or grouped we obtain 5 major classes of management bodies. Communism being a norm in this country user-group category has the winning hand.\n",
    "\n",
    "### Payment type"
   ]
  },
  {
   "cell_type": "code",
   "execution_count": null,
   "metadata": {},
   "outputs": [],
   "source": [
    "sns_ycount(\"payment_type\", complete_data)"
   ]
  },
  {
   "cell_type": "markdown",
   "metadata": {},
   "source": [
    "The means of payment for water in Tanzania has seven unique modes of payment. Most of the water wells are free and no charges are needed to access water. This is what the plot says as we can see most common mode of payment is \"never pay\". Our other plots on management concur with this as we can see most water wells are managed by the village community\n",
    "\n",
    "### Water quality"
   ]
  },
  {
   "cell_type": "code",
   "execution_count": null,
   "metadata": {},
   "outputs": [],
   "source": [
    "sns_ycount(\"water_quality\", complete_data)"
   ]
  },
  {
   "cell_type": "markdown",
   "metadata": {},
   "source": [
    "In terms of water quality, Tanzania is blessed with soft water. Soft water generally contains low concentrations of minerals like calcium and magnesium, leading to fewer issues related to limescale buildup in pipes and appliances. In Tanzania, having soft water can contribute to reduced instances of scale accumulation in plumbing systems and appliances, potentially minimizing maintenance and extending the lifespan of water-related infrastructure. \n",
    "\n",
    "### Water quantity"
   ]
  },
  {
   "cell_type": "code",
   "execution_count": null,
   "metadata": {},
   "outputs": [],
   "source": [
    "sns_ycount(\"quantity\", complete_data)"
   ]
  },
  {
   "cell_type": "markdown",
   "metadata": {},
   "source": [
    "From the dataset and visual above we can say that most water wells in Tanzania have enough water to sustain the population around it.We can see most wells holds enough capacity to meet the societies needs. It can also indicate that most of them are drought resistant.\n",
    "We can also see that almost a quarter of the wells contain insufficient water capacity to serve the people's needs\n",
    "\n",
    "### Source"
   ]
  },
  {
   "cell_type": "code",
   "execution_count": null,
   "metadata": {},
   "outputs": [],
   "source": [
    "sns_ycount(\"source\", complete_data)"
   ]
  },
  {
   "cell_type": "markdown",
   "metadata": {},
   "source": [
    "Spring and shallow well are the most prolific water sources in Tanzania. Boreholes and rivers come in second and third respectively. Rain harvesting is a little bit lower and this can indicate that most households are not modern and rely on grass thatched houses making it impossible to harvest rain water\n",
    "\n",
    "### Source class"
   ]
  },
  {
   "cell_type": "code",
   "execution_count": null,
   "metadata": {},
   "outputs": [],
   "source": [
    "sns_xcount(\"source_class\", complete_data)"
   ]
  },
  {
   "cell_type": "markdown",
   "metadata": {},
   "source": [
    "Sources of water with similar type of occurence can be further grouped mainly into groundwater and surface. The unknown are significantly minimal\n",
    "\n",
    "### Waterpoint type"
   ]
  },
  {
   "cell_type": "code",
   "execution_count": null,
   "metadata": {},
   "outputs": [],
   "source": [
    "sns_ycount(\"waterpoint_type\", complete_data)"
   ]
  },
  {
   "cell_type": "markdown",
   "metadata": {},
   "source": [
    "As we have seen earlier that communism is the spirit in Tanzania, we can also see here that most water wells have communal standpipe  as the infrastructure designed to provide access to data.The hand pump, communal standpipe multiple are also very popular designs of accessing water.\n",
    "\n",
    "### Permit"
   ]
  },
  {
   "cell_type": "code",
   "execution_count": null,
   "metadata": {},
   "outputs": [],
   "source": [
    "sns_xcount(\"permit\", complete_data)"
   ]
  },
  {
   "cell_type": "markdown",
   "metadata": {},
   "source": [
    "Most water wells in Tanzania have permits to operate and provide water. Our visual indicates that most water points have obtained the necessary permission, authorization, or legal approval to operate from the appropriate governing bodies. This may involve compliance with regulations and standards set by local or national authorities.The water points with no permits may indicate that the water source is operating without official permission, potentially raising concerns about its compliance with safety, health, or regulatory standards.\n",
    "\n",
    "### Public meeting"
   ]
  },
  {
   "cell_type": "code",
   "execution_count": null,
   "metadata": {},
   "outputs": [],
   "source": [
    "sns_xcount(\"public_meeting\", complete_data)"
   ]
  },
  {
   "cell_type": "markdown",
   "metadata": {},
   "source": [
    "There is public participation whenever issues or concerns about the water points arise. From the data True means that a public meeting or community gathering has occurred to discuss matters related to water services, infrastructure, or projects such as waterquality, maintenance etc.  False means there hasn't been a recorded public meeting or community gathering related to water-related issues or projects. This can indicate a lack of organized discussions or forums within the community about water related  issues.\n",
    "\n",
    "## 5.2 Multivariate EDA\n",
    "\n",
    "##### The process here involves examining relationships, patterns, and interactions between multiple variables simultaneously within  our dataset. \n",
    "\n",
    "#### First let us plot the scatter map of our data and see the spread of water pumps across Tanzania's geographical land mass"
   ]
  },
  {
   "cell_type": "code",
   "execution_count": null,
   "metadata": {},
   "outputs": [],
   "source": [
    "#plotting latitudes and longitudes to check the geographcal representation of the data\n",
    "plt.figure(figsize=(10, 5))\n",
    "sns.scatterplot(y ='longitude', x= 'latitude',alpha=0.5, c='blue',\n",
    "                hue= \"status_group\", data = complete_data)\n",
    "plt.xlabel('Longitude')\n",
    "plt.ylabel('Latitude')\n",
    "plt.title('Geographical Distribution of Data Points')\n",
    "plt.grid(True)\n",
    "plt.show()"
   ]
  },
  {
   "cell_type": "markdown",
   "metadata": {},
   "source": [
    "##### From the scatter plot we can say that the pumps status across the region is almost even. The functional class is the highest followed by the non functional class and the ones that function but need repair are significantly low. The white spaces can be accounted as large water bodies such as lakes within the region\n",
    "\n",
    "##### We are now going to write two helper functions to help us plot the relationship between two or more columns in our data."
   ]
  },
  {
   "cell_type": "code",
   "execution_count": null,
   "metadata": {},
   "outputs": [],
   "source": [
    "#helper function for plotting multivariate countplots\n",
    "def multivariate_ycountplot(column, data):\n",
    "    sns.countplot(y = column, data = data, hue= \"status_group\", palette= \"bright\");\n",
    "    plt.legend(loc= \"best\")\n",
    "\n",
    "def multivariate_xcountplot(column, data):\n",
    "    sns.countplot(x = column, data = data,  hue= \"status_group\", palette= \"bright\");\n",
    "    plt.xticks(rotation = 45)\n",
    "    plt.legend(loc= \"best\")"
   ]
  },
  {
   "cell_type": "markdown",
   "metadata": {},
   "source": [
    "#### Relationship betweeen Status group and basin"
   ]
  },
  {
   "cell_type": "code",
   "execution_count": null,
   "metadata": {},
   "outputs": [],
   "source": [
    "multivariate_ycountplot(\"basin\", complete_data)"
   ]
  },
  {
   "cell_type": "markdown",
   "metadata": {},
   "source": [
    "Lake Rufiji, Pangani basin and Lake Victoria leads as the basin bodies with the highest number pumps functioning around them and this can be an indication these are the main water sources in Tanzania. It also indicates high population around the regions of the basin    \n",
    "### Relationship betweeen Status group and region"
   ]
  },
  {
   "cell_type": "code",
   "execution_count": null,
   "metadata": {},
   "outputs": [],
   "source": [
    "multivariate_ycountplot(\"region\", complete_data)"
   ]
  },
  {
   "cell_type": "markdown",
   "metadata": {},
   "source": [
    "Iringa region is the region with the most functioning pumps. Mbeya and Shinyanga regions are leading in pumps that are not functioning.\n",
    "Kigoma, Shinyanga and Kigoma also have highest number of pumps that need repair.\n",
    "#### Relationship betweeen Status group and extraction_type_group"
   ]
  },
  {
   "cell_type": "code",
   "execution_count": null,
   "metadata": {},
   "outputs": [],
   "source": [
    "multivariate_ycountplot(\"extraction_type_group\", complete_data)"
   ]
  },
  {
   "cell_type": "markdown",
   "metadata": {},
   "source": [
    "Gravity is the main type of water extraction meaning many people fetch there water in streams and rivers. This indicates poor infrastructure of clean piped water in Tanzania.\n",
    "#### Relationship betweeen Status group and management"
   ]
  },
  {
   "cell_type": "code",
   "execution_count": null,
   "metadata": {},
   "outputs": [],
   "source": [
    "multivariate_ycountplot(\"management\", complete_data)"
   ]
  },
  {
   "cell_type": "markdown",
   "metadata": {},
   "source": [
    "Village Water Community managed wells have the highest number of functioning, non function and functioning but needs repair. This can indicate that some communities are best at managing their well's infrastructure and some of them don't know how to manage their water well\n",
    "#### Relationship betweeen Status group and waterquality\n"
   ]
  },
  {
   "cell_type": "code",
   "execution_count": null,
   "metadata": {},
   "outputs": [],
   "source": [
    "multivariate_xcountplot(\"water_quality\", complete_data)"
   ]
  },
  {
   "cell_type": "markdown",
   "metadata": {
    "notebookRunGroups": {
     "groupValue": "2"
    }
   },
   "source": [
    "Soft water is the most used water in Tanzania as we can see it has the highest count of all three classes of the status group\n",
    "#### Relationship betweeen Status group and quantity"
   ]
  },
  {
   "cell_type": "code",
   "execution_count": null,
   "metadata": {},
   "outputs": [],
   "source": [
    "multivariate_xcountplot(\"quantity\", complete_data)"
   ]
  },
  {
   "cell_type": "markdown",
   "metadata": {},
   "source": [
    "\n",
    "#### Relationship betweeen Status group and source"
   ]
  },
  {
   "cell_type": "code",
   "execution_count": null,
   "metadata": {},
   "outputs": [],
   "source": [
    "multivariate_ycountplot(\"source\", complete_data)"
   ]
  },
  {
   "cell_type": "markdown",
   "metadata": {},
   "source": [
    "#### Relationship betweeen Status group and payment_type"
   ]
  },
  {
   "cell_type": "code",
   "execution_count": null,
   "metadata": {},
   "outputs": [],
   "source": [
    "multivariate_xcountplot(\"payment_type\", complete_data)"
   ]
  },
  {
   "cell_type": "markdown",
   "metadata": {},
   "source": [
    "The neverpay water wells have the highest number of non functional pumps which can indicate lack of funds to repair the broken pumps in the region.\n",
    "#### Relationship betweeen Status group and waterpoint_type"
   ]
  },
  {
   "cell_type": "code",
   "execution_count": null,
   "metadata": {},
   "outputs": [],
   "source": [
    "multivariate_ycountplot(\"waterpoint_type\", complete_data)"
   ]
  },
  {
   "cell_type": "markdown",
   "metadata": {},
   "source": [
    "#### Relationship betweeen Status group and permit"
   ]
  },
  {
   "cell_type": "code",
   "execution_count": null,
   "metadata": {},
   "outputs": [],
   "source": [
    "multivariate_xcountplot(\"permit\", complete_data)"
   ]
  },
  {
   "cell_type": "markdown",
   "metadata": {},
   "source": [
    "Water wells working with permits have the largest portion of functional pumps and non functional at the same time. Most wells in Tanzania operate under a working permit\n",
    "#### Relationship betweeen Status group and public_meeting"
   ]
  },
  {
   "cell_type": "code",
   "execution_count": null,
   "metadata": {},
   "outputs": [],
   "source": [
    "multivariate_xcountplot(\"public_meeting\", complete_data)"
   ]
  },
  {
   "cell_type": "markdown",
   "metadata": {},
   "source": [
    "#### Knowing type of payment per region"
   ]
  },
  {
   "cell_type": "code",
   "execution_count": null,
   "metadata": {},
   "outputs": [],
   "source": [
    "plt.figure(figsize=(15, 5))\n",
    "sns.countplot(x= \"region\", hue = \"payment_type\", data= complete_data, palette= \"colorblind\")\n",
    "plt.xticks(rotation = 45);\n",
    "plt.legend(loc= \"best\")\n",
    "plt.title(\"Type of payment per region\")\n",
    "plt.show();"
   ]
  },
  {
   "cell_type": "markdown",
   "metadata": {},
   "source": [
    "Kagera MWanza and Mbeya regions are the leading regions using the neverpay method. This tells us these regions are the leading when it comes to non functional pumps. There seems to be a collinearity between neverpay method and non functional pumps\n",
    "#### Relationship betweeen Region and waterquality"
   ]
  },
  {
   "cell_type": "code",
   "execution_count": null,
   "metadata": {},
   "outputs": [],
   "source": [
    "plt.figure(figsize=(15, 6))\n",
    "sns.countplot(x= \"region\", hue = \"water_quality\", data= complete_data, palette= \"deep\")\n",
    "plt.xticks(rotation = 45);\n",
    "plt.legend(loc= \"best\")\n",
    "plt.title(\"Water quality distribution per region\")\n",
    "plt.show();"
   ]
  },
  {
   "cell_type": "markdown",
   "metadata": {},
   "source": [
    "Iringa, Tanga, Ruvuma and Arusha are the leading regions in terms of soft water quality. This a perfect exlanation why these regions have the highest number of water wells.\n",
    "#### Relationship betweeen Region and water quantity"
   ]
  },
  {
   "cell_type": "code",
   "execution_count": null,
   "metadata": {},
   "outputs": [],
   "source": [
    "plt.figure(figsize=(15, 5))\n",
    "sns.countplot(x= \"region\", hue = \"quantity\", data= complete_data, palette= \"bright\")\n",
    "plt.xticks(rotation = 45);\n",
    "plt.legend(loc= \"best\")\n",
    "plt.title(\"Water quantity per region\")\n",
    "plt.show();"
   ]
  },
  {
   "cell_type": "markdown",
   "metadata": {},
   "source": [
    "Iringa, Shinyanga, Kilimanjaro and Mbeya are the regions with high count of sufficient water sources for its population. Arusha has the highest number of insufficient water wells followed by Kilimanjaro\n",
    "#### Relationship betweeen Region and waterpoint"
   ]
  },
  {
   "cell_type": "code",
   "execution_count": null,
   "metadata": {},
   "outputs": [],
   "source": [
    "plt.figure(figsize=(15, 8))\n",
    "sns.countplot(x= \"region\", hue = \"waterpoint_type\", data= complete_data)\n",
    "plt.xticks(rotation = 45);\n",
    "plt.title(\"Type of waterpoint type per region\")\n",
    "plt.legend(loc= \"best\")\n",
    "plt.show();"
   ]
  },
  {
   "cell_type": "markdown",
   "metadata": {},
   "source": [
    "Communal standpipes are the most popular waterpoint type in Tanzania. Hand pump comes in second\n",
    "#### Relationship betweeen Region and source of water"
   ]
  },
  {
   "cell_type": "code",
   "execution_count": null,
   "metadata": {},
   "outputs": [],
   "source": [
    "plt.figure(figsize=(15, 7))\n",
    "sns.countplot(x= \"region\", hue = \"source\", data= complete_data)\n",
    "plt.xticks(rotation = 45)\n",
    "plt.title(\"Type of water source per region\")\n",
    "plt.legend(loc= \"best\")\n",
    "plt.show();"
   ]
  },
  {
   "cell_type": "markdown",
   "metadata": {},
   "source": [
    " Iringa and Ruvuma regions have springs as their main water sources. Shinyanga has shallow wells as its main source for water. Singida, Dodoma, Rukwa, Pwani, Mtwara have machine drilled borehole as the main source of water and this indicates these are commercial regions or towns with no natural water source or body near them.\n",
    " \n",
    " #### Relationship betweeen Region and management group"
   ]
  },
  {
   "cell_type": "code",
   "execution_count": null,
   "metadata": {},
   "outputs": [],
   "source": [
    "plt.figure(figsize=(15, 6))\n",
    "sns.countplot(x= \"region\", hue = \"management_group\", data= complete_data)\n",
    "plt.xticks(rotation = 45)\n",
    "plt.title(\"Type of management group per region\")\n",
    "plt.legend(loc= \"best\")\n",
    "plt.show();"
   ]
  },
  {
   "cell_type": "markdown",
   "metadata": {},
   "source": [
    "In all regions user-group is the main type of management group. This can be associated with the spirit of communism in Tanzania\n",
    "### Relationship between basin and water quality"
   ]
  },
  {
   "cell_type": "code",
   "execution_count": null,
   "metadata": {},
   "outputs": [],
   "source": [
    "sns.countplot(y = \"basin\", hue= \"water_quality\", data = complete_data)\n",
    "plt.legend(loc = \"best\")\n",
    "plt.xticks(rotation = 45)\n",
    "plt.show();"
   ]
  },
  {
   "cell_type": "markdown",
   "metadata": {},
   "source": [
    "All water basins in Tanzania have soft water as the main component of its body. This can indicate economic activities like fishing is high in all the regions\n",
    "#\n",
    "We are now done with exploratory analysis and we have seen and understood our data well. Next stage is modelling and I will do that on another notebook to avoid confusion and break the monotony of reading a very long notebook. It also aids in organizing your work. I am going to inspect my data one last time before saving it as a csv file in order to capture the changes we have made and use this new saved data in my next notebook"
   ]
  },
  {
   "cell_type": "code",
   "execution_count": null,
   "metadata": {},
   "outputs": [],
   "source": [
    "#inspecting the data\n",
    "complete_data.info()"
   ]
  },
  {
   "cell_type": "code",
   "execution_count": null,
   "metadata": {},
   "outputs": [],
   "source": [
    "# saving our processed data as a csv file\n",
    "complete_data.to_csv(\"modelling_data.csv\", index= False)"
   ]
  }
 ],
 "metadata": {
  "kernelspec": {
   "display_name": "Python 3",
   "language": "python",
   "name": "python3"
  },
  "language_info": {
   "codemirror_mode": {
    "name": "ipython",
    "version": 3
   },
   "file_extension": ".py",
   "mimetype": "text/x-python",
   "name": "python",
   "nbconvert_exporter": "python",
   "pygments_lexer": "ipython3",
   "version": "3.7.3"
  }
 },
 "nbformat": 4,
 "nbformat_minor": 2
}
