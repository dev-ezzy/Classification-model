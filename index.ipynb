{
 "cells": [
  {
   "cell_type": "markdown",
   "metadata": {},
   "source": [
    "# 1. Importing all the necessary modules for our project"
   ]
  },
  {
   "cell_type": "code",
   "execution_count": 1,
   "metadata": {},
   "outputs": [],
   "source": [
    "#import modules\n",
    "import pandas as pd \n",
    "import numpy as np \n",
    "import seaborn as sns \n",
    "import matplotlib.pyplot as plt \n",
    "from sklearn.pipeline import Pipeline\n",
    "from sklearn.preprocessing import OneHotEncoder, StandardScaler, MinMaxScaler\n",
    "from sklearn.impute import SimpleImputer\n",
    "from sklearn.compose import ColumnTransformer\n",
    "from data_understanding import data_summary\n",
    "import warnings\n",
    "warnings.filterwarnings(\"ignore\")"
   ]
  },
  {
   "cell_type": "markdown",
   "metadata": {},
   "source": [
    "### 1.1 checking our data"
   ]
  },
  {
   "cell_type": "code",
   "execution_count": 2,
   "metadata": {},
   "outputs": [
    {
     "name": "stdout",
     "output_type": "stream",
     "text": [
      "First 5 rows of the DataFrame:\n",
      "      id    status_group\n",
      "0  69572      functional\n",
      "1   8776      functional\n",
      "2  34310      functional\n",
      "3  67743  non functional\n",
      "4  19728      functional\n",
      "\n",
      "DataFrame Info:\n",
      "<class 'pandas.core.frame.DataFrame'>\n",
      "RangeIndex: 59400 entries, 0 to 59399\n",
      "Data columns (total 2 columns):\n",
      " #   Column        Non-Null Count  Dtype \n",
      "---  ------        --------------  ----- \n",
      " 0   id            59400 non-null  int64 \n",
      " 1   status_group  59400 non-null  object\n",
      "dtypes: int64(1), object(1)\n",
      "memory usage: 928.3+ KB\n",
      "None\n",
      "\n",
      "Summary Statistics:\n",
      "                 id\n",
      "count  59400.000000\n",
      "mean   37115.131768\n",
      "std    21453.128371\n",
      "min        0.000000\n",
      "25%    18519.750000\n",
      "50%    37061.500000\n",
      "75%    55656.500000\n",
      "max    74247.000000\n"
     ]
    }
   ],
   "source": [
    "path = \"Test_set_values.csv\"\n",
    "data_summary(path)"
   ]
  },
  {
   "cell_type": "code",
   "execution_count": 3,
   "metadata": {},
   "outputs": [
    {
     "name": "stdout",
     "output_type": "stream",
     "text": [
      "First 5 rows of the DataFrame:\n",
      "      id  amount_tsh date_recorded                  funder  gps_height  \\\n",
      "0  50785         0.0    2013-02-04                    Dmdd        1996   \n",
      "1  51630         0.0    2013-02-04  Government Of Tanzania        1569   \n",
      "2  17168         0.0    2013-02-01                     NaN        1567   \n",
      "3  45559         0.0    2013-01-22              Finn Water         267   \n",
      "4  49871       500.0    2013-03-27                  Bruder        1260   \n",
      "\n",
      "    installer  longitude   latitude                 wpt_name  num_private  \\\n",
      "0        DMDD  35.290799  -4.059696  Dinamu Secondary School            0   \n",
      "1         DWE  36.656709  -3.309214                  Kimnyak            0   \n",
      "2         NaN  34.767863  -5.004344           Puma Secondary            0   \n",
      "3  FINN WATER  38.058046  -9.418672           Kwa Mzee Pange            0   \n",
      "4      BRUDER  35.006123 -10.950412          Kwa Mzee Turuka            0   \n",
      "\n",
      "   ... payment_type water_quality quality_group      quantity  quantity_group  \\\n",
      "0  ...    never pay          soft          good      seasonal        seasonal   \n",
      "1  ...    never pay          soft          good  insufficient    insufficient   \n",
      "2  ...    never pay          soft          good  insufficient    insufficient   \n",
      "3  ...      unknown          soft          good           dry             dry   \n",
      "4  ...      monthly          soft          good        enough          enough   \n",
      "\n",
      "                 source           source_type  source_class  \\\n",
      "0  rainwater harvesting  rainwater harvesting       surface   \n",
      "1                spring                spring   groundwater   \n",
      "2  rainwater harvesting  rainwater harvesting       surface   \n",
      "3          shallow well          shallow well   groundwater   \n",
      "4                spring                spring   groundwater   \n",
      "\n",
      "      waterpoint_type waterpoint_type_group  \n",
      "0               other                 other  \n",
      "1  communal standpipe    communal standpipe  \n",
      "2               other                 other  \n",
      "3               other                 other  \n",
      "4  communal standpipe    communal standpipe  \n",
      "\n",
      "[5 rows x 40 columns]\n",
      "\n",
      "DataFrame Info:\n",
      "<class 'pandas.core.frame.DataFrame'>\n",
      "RangeIndex: 14850 entries, 0 to 14849\n",
      "Data columns (total 40 columns):\n",
      " #   Column                 Non-Null Count  Dtype  \n",
      "---  ------                 --------------  -----  \n",
      " 0   id                     14850 non-null  int64  \n",
      " 1   amount_tsh             14850 non-null  float64\n",
      " 2   date_recorded          14850 non-null  object \n",
      " 3   funder                 13980 non-null  object \n",
      " 4   gps_height             14850 non-null  int64  \n",
      " 5   installer              13973 non-null  object \n",
      " 6   longitude              14850 non-null  float64\n",
      " 7   latitude               14850 non-null  float64\n",
      " 8   wpt_name               14850 non-null  object \n",
      " 9   num_private            14850 non-null  int64  \n",
      " 10  basin                  14850 non-null  object \n",
      " 11  subvillage             14751 non-null  object \n",
      " 12  region                 14850 non-null  object \n",
      " 13  region_code            14850 non-null  int64  \n",
      " 14  district_code          14850 non-null  int64  \n",
      " 15  lga                    14850 non-null  object \n",
      " 16  ward                   14850 non-null  object \n",
      " 17  population             14850 non-null  int64  \n",
      " 18  public_meeting         14029 non-null  object \n",
      " 19  recorded_by            14850 non-null  object \n",
      " 20  scheme_management      13881 non-null  object \n",
      " 21  scheme_name            7608 non-null   object \n",
      " 22  permit                 14113 non-null  object \n",
      " 23  construction_year      14850 non-null  int64  \n",
      " 24  extraction_type        14850 non-null  object \n",
      " 25  extraction_type_group  14850 non-null  object \n",
      " 26  extraction_type_class  14850 non-null  object \n",
      " 27  management             14850 non-null  object \n",
      " 28  management_group       14850 non-null  object \n",
      " 29  payment                14850 non-null  object \n",
      " 30  payment_type           14850 non-null  object \n",
      " 31  water_quality          14850 non-null  object \n",
      " 32  quality_group          14850 non-null  object \n",
      " 33  quantity               14850 non-null  object \n",
      " 34  quantity_group         14850 non-null  object \n",
      " 35  source                 14850 non-null  object \n",
      " 36  source_type            14850 non-null  object \n",
      " 37  source_class           14850 non-null  object \n",
      " 38  waterpoint_type        14850 non-null  object \n",
      " 39  waterpoint_type_group  14850 non-null  object \n",
      "dtypes: float64(3), int64(7), object(30)\n",
      "memory usage: 4.5+ MB\n",
      "None\n",
      "\n",
      "Summary Statistics:\n",
      "                 id     amount_tsh    gps_height     longitude      latitude  \\\n",
      "count  14850.000000   14850.000000  14850.000000  14850.000000  1.485000e+04   \n",
      "mean   37161.972929     322.826983    655.147609     34.061605 -5.684724e+00   \n",
      "std    21359.364833    2510.968644    691.261185      6.593034  2.940803e+00   \n",
      "min       10.000000       0.000000    -57.000000      0.000000 -1.156459e+01   \n",
      "25%    18727.000000       0.000000      0.000000     33.069455 -8.443970e+00   \n",
      "50%    37361.500000       0.000000    344.000000     34.901215 -5.049750e+00   \n",
      "75%    55799.750000      25.000000   1308.000000     37.196594 -3.320594e+00   \n",
      "max    74249.000000  200000.000000   2777.000000     40.325016 -2.000000e-08   \n",
      "\n",
      "        num_private   region_code  district_code    population  \\\n",
      "count  14850.000000  14850.000000   14850.000000  14850.000000   \n",
      "mean       0.415084     15.139057       5.626397    184.114209   \n",
      "std        8.167910     17.191329       9.673842    469.499332   \n",
      "min        0.000000      1.000000       0.000000      0.000000   \n",
      "25%        0.000000      5.000000       2.000000      0.000000   \n",
      "50%        0.000000     12.000000       3.000000     20.000000   \n",
      "75%        0.000000     17.000000       5.000000    220.000000   \n",
      "max      669.000000     99.000000      80.000000  11469.000000   \n",
      "\n",
      "       construction_year  \n",
      "count       14850.000000  \n",
      "mean         1289.708350  \n",
      "std           955.241087  \n",
      "min             0.000000  \n",
      "25%             0.000000  \n",
      "50%          1986.000000  \n",
      "75%          2004.000000  \n",
      "max          2013.000000  \n"
     ]
    }
   ],
   "source": [
    "path_2 = \"702ddfc5-68cd-4d1d-a0de-f5f566f76d91.csv\"\n",
    "Training_variables = data_summary(path_2)"
   ]
  },
  {
   "cell_type": "code",
   "execution_count": 4,
   "metadata": {},
   "outputs": [
    {
     "name": "stdout",
     "output_type": "stream",
     "text": [
      "First 5 rows of the DataFrame:\n",
      "      id  amount_tsh date_recorded        funder  gps_height     installer  \\\n",
      "0  69572      6000.0    2011-03-14         Roman        1390         Roman   \n",
      "1   8776         0.0    2013-03-06       Grumeti        1399       GRUMETI   \n",
      "2  34310        25.0    2013-02-25  Lottery Club         686  World vision   \n",
      "3  67743         0.0    2013-01-28        Unicef         263        UNICEF   \n",
      "4  19728         0.0    2011-07-13   Action In A           0       Artisan   \n",
      "\n",
      "   longitude   latitude              wpt_name  num_private  ... payment_type  \\\n",
      "0  34.938093  -9.856322                  none            0  ...     annually   \n",
      "1  34.698766  -2.147466              Zahanati            0  ...    never pay   \n",
      "2  37.460664  -3.821329           Kwa Mahundi            0  ...   per bucket   \n",
      "3  38.486161 -11.155298  Zahanati Ya Nanyumbu            0  ...    never pay   \n",
      "4  31.130847  -1.825359               Shuleni            0  ...    never pay   \n",
      "\n",
      "  water_quality quality_group      quantity  quantity_group  \\\n",
      "0          soft          good        enough          enough   \n",
      "1          soft          good  insufficient    insufficient   \n",
      "2          soft          good        enough          enough   \n",
      "3          soft          good           dry             dry   \n",
      "4          soft          good      seasonal        seasonal   \n",
      "\n",
      "                 source           source_type  source_class  \\\n",
      "0                spring                spring   groundwater   \n",
      "1  rainwater harvesting  rainwater harvesting       surface   \n",
      "2                   dam                   dam       surface   \n",
      "3           machine dbh              borehole   groundwater   \n",
      "4  rainwater harvesting  rainwater harvesting       surface   \n",
      "\n",
      "               waterpoint_type waterpoint_type_group  \n",
      "0           communal standpipe    communal standpipe  \n",
      "1           communal standpipe    communal standpipe  \n",
      "2  communal standpipe multiple    communal standpipe  \n",
      "3  communal standpipe multiple    communal standpipe  \n",
      "4           communal standpipe    communal standpipe  \n",
      "\n",
      "[5 rows x 40 columns]\n",
      "\n",
      "DataFrame Info:\n",
      "<class 'pandas.core.frame.DataFrame'>\n",
      "RangeIndex: 59400 entries, 0 to 59399\n",
      "Data columns (total 40 columns):\n",
      " #   Column                 Non-Null Count  Dtype  \n",
      "---  ------                 --------------  -----  \n",
      " 0   id                     59400 non-null  int64  \n",
      " 1   amount_tsh             59400 non-null  float64\n",
      " 2   date_recorded          59400 non-null  object \n",
      " 3   funder                 55763 non-null  object \n",
      " 4   gps_height             59400 non-null  int64  \n",
      " 5   installer              55745 non-null  object \n",
      " 6   longitude              59400 non-null  float64\n",
      " 7   latitude               59400 non-null  float64\n",
      " 8   wpt_name               59398 non-null  object \n",
      " 9   num_private            59400 non-null  int64  \n",
      " 10  basin                  59400 non-null  object \n",
      " 11  subvillage             59029 non-null  object \n",
      " 12  region                 59400 non-null  object \n",
      " 13  region_code            59400 non-null  int64  \n",
      " 14  district_code          59400 non-null  int64  \n",
      " 15  lga                    59400 non-null  object \n",
      " 16  ward                   59400 non-null  object \n",
      " 17  population             59400 non-null  int64  \n",
      " 18  public_meeting         56066 non-null  object \n",
      " 19  recorded_by            59400 non-null  object \n",
      " 20  scheme_management      55522 non-null  object \n",
      " 21  scheme_name            30590 non-null  object \n",
      " 22  permit                 56344 non-null  object \n",
      " 23  construction_year      59400 non-null  int64  \n",
      " 24  extraction_type        59400 non-null  object \n",
      " 25  extraction_type_group  59400 non-null  object \n",
      " 26  extraction_type_class  59400 non-null  object \n",
      " 27  management             59400 non-null  object \n",
      " 28  management_group       59400 non-null  object \n",
      " 29  payment                59400 non-null  object \n",
      " 30  payment_type           59400 non-null  object \n",
      " 31  water_quality          59400 non-null  object \n",
      " 32  quality_group          59400 non-null  object \n",
      " 33  quantity               59400 non-null  object \n",
      " 34  quantity_group         59400 non-null  object \n",
      " 35  source                 59400 non-null  object \n",
      " 36  source_type            59400 non-null  object \n",
      " 37  source_class           59400 non-null  object \n",
      " 38  waterpoint_type        59400 non-null  object \n",
      " 39  waterpoint_type_group  59400 non-null  object \n",
      "dtypes: float64(3), int64(7), object(30)\n",
      "memory usage: 18.1+ MB\n",
      "None\n",
      "\n",
      "Summary Statistics:\n",
      "                 id     amount_tsh    gps_height     longitude      latitude  \\\n",
      "count  59400.000000   59400.000000  59400.000000  59400.000000  5.940000e+04   \n",
      "mean   37115.131768     317.650385    668.297239     34.077427 -5.706033e+00   \n",
      "std    21453.128371    2997.574558    693.116350      6.567432  2.946019e+00   \n",
      "min        0.000000       0.000000    -90.000000      0.000000 -1.164944e+01   \n",
      "25%    18519.750000       0.000000      0.000000     33.090347 -8.540621e+00   \n",
      "50%    37061.500000       0.000000    369.000000     34.908743 -5.021597e+00   \n",
      "75%    55656.500000      20.000000   1319.250000     37.178387 -3.326156e+00   \n",
      "max    74247.000000  350000.000000   2770.000000     40.345193 -2.000000e-08   \n",
      "\n",
      "        num_private   region_code  district_code    population  \\\n",
      "count  59400.000000  59400.000000   59400.000000  59400.000000   \n",
      "mean       0.474141     15.297003       5.629747    179.909983   \n",
      "std       12.236230     17.587406       9.633649    471.482176   \n",
      "min        0.000000      1.000000       0.000000      0.000000   \n",
      "25%        0.000000      5.000000       2.000000      0.000000   \n",
      "50%        0.000000     12.000000       3.000000     25.000000   \n",
      "75%        0.000000     17.000000       5.000000    215.000000   \n",
      "max     1776.000000     99.000000      80.000000  30500.000000   \n",
      "\n",
      "       construction_year  \n",
      "count       59400.000000  \n",
      "mean         1300.652475  \n",
      "std           951.620547  \n",
      "min             0.000000  \n",
      "25%             0.000000  \n",
      "50%          1986.000000  \n",
      "75%          2004.000000  \n",
      "max          2013.000000  \n"
     ]
    }
   ],
   "source": [
    "path_3 = \"4910797b-ee55-40a7-8668-10efd5c1b960.csv\"\n",
    "Training_values = data_summary(path_3)"
   ]
  },
  {
   "cell_type": "markdown",
   "metadata": {},
   "source": [
    "##  2. Merging our target classes DataFrame  with training set DataFrame\n",
    "We are using the id column to join the two DataFrames using the \"inner\" method "
   ]
  },
  {
   "cell_type": "code",
   "execution_count": 5,
   "metadata": {},
   "outputs": [],
   "source": [
    "df_1 = pd.read_csv(\"Test_set_values.csv\", index_col= 0)\n",
    "df_2 = pd.read_csv(\"4910797b-ee55-40a7-8668-10efd5c1b960.csv\", index_col= 0)\n",
    "df_3 = pd.read_csv(\"702ddfc5-68cd-4d1d-a0de-f5f566f76d91.csv\", index_col= 0)"
   ]
  },
  {
   "cell_type": "markdown",
   "metadata": {},
   "source": [
    "Checking if columns of our two data sets are similar"
   ]
  },
  {
   "cell_type": "code",
   "execution_count": 6,
   "metadata": {},
   "outputs": [],
   "source": [
    "assert (df_2.columns  == df_3.columns).any()"
   ]
  },
  {
   "cell_type": "code",
   "execution_count": 7,
   "metadata": {},
   "outputs": [
    {
     "data": {
      "text/html": [
       "<div>\n",
       "<style scoped>\n",
       "    .dataframe tbody tr th:only-of-type {\n",
       "        vertical-align: middle;\n",
       "    }\n",
       "\n",
       "    .dataframe tbody tr th {\n",
       "        vertical-align: top;\n",
       "    }\n",
       "\n",
       "    .dataframe thead th {\n",
       "        text-align: right;\n",
       "    }\n",
       "</style>\n",
       "<table border=\"1\" class=\"dataframe\">\n",
       "  <thead>\n",
       "    <tr style=\"text-align: right;\">\n",
       "      <th></th>\n",
       "      <th>status_group</th>\n",
       "      <th>amount_tsh</th>\n",
       "      <th>date_recorded</th>\n",
       "      <th>funder</th>\n",
       "      <th>gps_height</th>\n",
       "      <th>installer</th>\n",
       "      <th>longitude</th>\n",
       "      <th>latitude</th>\n",
       "      <th>wpt_name</th>\n",
       "      <th>num_private</th>\n",
       "      <th>...</th>\n",
       "      <th>payment_type</th>\n",
       "      <th>water_quality</th>\n",
       "      <th>quality_group</th>\n",
       "      <th>quantity</th>\n",
       "      <th>quantity_group</th>\n",
       "      <th>source</th>\n",
       "      <th>source_type</th>\n",
       "      <th>source_class</th>\n",
       "      <th>waterpoint_type</th>\n",
       "      <th>waterpoint_type_group</th>\n",
       "    </tr>\n",
       "    <tr>\n",
       "      <th>id</th>\n",
       "      <th></th>\n",
       "      <th></th>\n",
       "      <th></th>\n",
       "      <th></th>\n",
       "      <th></th>\n",
       "      <th></th>\n",
       "      <th></th>\n",
       "      <th></th>\n",
       "      <th></th>\n",
       "      <th></th>\n",
       "      <th></th>\n",
       "      <th></th>\n",
       "      <th></th>\n",
       "      <th></th>\n",
       "      <th></th>\n",
       "      <th></th>\n",
       "      <th></th>\n",
       "      <th></th>\n",
       "      <th></th>\n",
       "      <th></th>\n",
       "      <th></th>\n",
       "    </tr>\n",
       "  </thead>\n",
       "  <tbody>\n",
       "    <tr>\n",
       "      <th>69572</th>\n",
       "      <td>functional</td>\n",
       "      <td>6000.0</td>\n",
       "      <td>2011-03-14</td>\n",
       "      <td>Roman</td>\n",
       "      <td>1390</td>\n",
       "      <td>Roman</td>\n",
       "      <td>34.938093</td>\n",
       "      <td>-9.856322</td>\n",
       "      <td>none</td>\n",
       "      <td>0</td>\n",
       "      <td>...</td>\n",
       "      <td>annually</td>\n",
       "      <td>soft</td>\n",
       "      <td>good</td>\n",
       "      <td>enough</td>\n",
       "      <td>enough</td>\n",
       "      <td>spring</td>\n",
       "      <td>spring</td>\n",
       "      <td>groundwater</td>\n",
       "      <td>communal standpipe</td>\n",
       "      <td>communal standpipe</td>\n",
       "    </tr>\n",
       "    <tr>\n",
       "      <th>8776</th>\n",
       "      <td>functional</td>\n",
       "      <td>0.0</td>\n",
       "      <td>2013-03-06</td>\n",
       "      <td>Grumeti</td>\n",
       "      <td>1399</td>\n",
       "      <td>GRUMETI</td>\n",
       "      <td>34.698766</td>\n",
       "      <td>-2.147466</td>\n",
       "      <td>Zahanati</td>\n",
       "      <td>0</td>\n",
       "      <td>...</td>\n",
       "      <td>never pay</td>\n",
       "      <td>soft</td>\n",
       "      <td>good</td>\n",
       "      <td>insufficient</td>\n",
       "      <td>insufficient</td>\n",
       "      <td>rainwater harvesting</td>\n",
       "      <td>rainwater harvesting</td>\n",
       "      <td>surface</td>\n",
       "      <td>communal standpipe</td>\n",
       "      <td>communal standpipe</td>\n",
       "    </tr>\n",
       "    <tr>\n",
       "      <th>34310</th>\n",
       "      <td>functional</td>\n",
       "      <td>25.0</td>\n",
       "      <td>2013-02-25</td>\n",
       "      <td>Lottery Club</td>\n",
       "      <td>686</td>\n",
       "      <td>World vision</td>\n",
       "      <td>37.460664</td>\n",
       "      <td>-3.821329</td>\n",
       "      <td>Kwa Mahundi</td>\n",
       "      <td>0</td>\n",
       "      <td>...</td>\n",
       "      <td>per bucket</td>\n",
       "      <td>soft</td>\n",
       "      <td>good</td>\n",
       "      <td>enough</td>\n",
       "      <td>enough</td>\n",
       "      <td>dam</td>\n",
       "      <td>dam</td>\n",
       "      <td>surface</td>\n",
       "      <td>communal standpipe multiple</td>\n",
       "      <td>communal standpipe</td>\n",
       "    </tr>\n",
       "    <tr>\n",
       "      <th>67743</th>\n",
       "      <td>non functional</td>\n",
       "      <td>0.0</td>\n",
       "      <td>2013-01-28</td>\n",
       "      <td>Unicef</td>\n",
       "      <td>263</td>\n",
       "      <td>UNICEF</td>\n",
       "      <td>38.486161</td>\n",
       "      <td>-11.155298</td>\n",
       "      <td>Zahanati Ya Nanyumbu</td>\n",
       "      <td>0</td>\n",
       "      <td>...</td>\n",
       "      <td>never pay</td>\n",
       "      <td>soft</td>\n",
       "      <td>good</td>\n",
       "      <td>dry</td>\n",
       "      <td>dry</td>\n",
       "      <td>machine dbh</td>\n",
       "      <td>borehole</td>\n",
       "      <td>groundwater</td>\n",
       "      <td>communal standpipe multiple</td>\n",
       "      <td>communal standpipe</td>\n",
       "    </tr>\n",
       "    <tr>\n",
       "      <th>19728</th>\n",
       "      <td>functional</td>\n",
       "      <td>0.0</td>\n",
       "      <td>2011-07-13</td>\n",
       "      <td>Action In A</td>\n",
       "      <td>0</td>\n",
       "      <td>Artisan</td>\n",
       "      <td>31.130847</td>\n",
       "      <td>-1.825359</td>\n",
       "      <td>Shuleni</td>\n",
       "      <td>0</td>\n",
       "      <td>...</td>\n",
       "      <td>never pay</td>\n",
       "      <td>soft</td>\n",
       "      <td>good</td>\n",
       "      <td>seasonal</td>\n",
       "      <td>seasonal</td>\n",
       "      <td>rainwater harvesting</td>\n",
       "      <td>rainwater harvesting</td>\n",
       "      <td>surface</td>\n",
       "      <td>communal standpipe</td>\n",
       "      <td>communal standpipe</td>\n",
       "    </tr>\n",
       "  </tbody>\n",
       "</table>\n",
       "<p>5 rows × 40 columns</p>\n",
       "</div>"
      ],
      "text/plain": [
       "         status_group  amount_tsh date_recorded        funder  gps_height  \\\n",
       "id                                                                          \n",
       "69572      functional      6000.0    2011-03-14         Roman        1390   \n",
       "8776       functional         0.0    2013-03-06       Grumeti        1399   \n",
       "34310      functional        25.0    2013-02-25  Lottery Club         686   \n",
       "67743  non functional         0.0    2013-01-28        Unicef         263   \n",
       "19728      functional         0.0    2011-07-13   Action In A           0   \n",
       "\n",
       "          installer  longitude   latitude              wpt_name  num_private  \\\n",
       "id                                                                             \n",
       "69572         Roman  34.938093  -9.856322                  none            0   \n",
       "8776        GRUMETI  34.698766  -2.147466              Zahanati            0   \n",
       "34310  World vision  37.460664  -3.821329           Kwa Mahundi            0   \n",
       "67743        UNICEF  38.486161 -11.155298  Zahanati Ya Nanyumbu            0   \n",
       "19728       Artisan  31.130847  -1.825359               Shuleni            0   \n",
       "\n",
       "       ... payment_type water_quality quality_group      quantity  \\\n",
       "id     ...                                                          \n",
       "69572  ...     annually          soft          good        enough   \n",
       "8776   ...    never pay          soft          good  insufficient   \n",
       "34310  ...   per bucket          soft          good        enough   \n",
       "67743  ...    never pay          soft          good           dry   \n",
       "19728  ...    never pay          soft          good      seasonal   \n",
       "\n",
       "       quantity_group                source           source_type  \\\n",
       "id                                                                  \n",
       "69572          enough                spring                spring   \n",
       "8776     insufficient  rainwater harvesting  rainwater harvesting   \n",
       "34310          enough                   dam                   dam   \n",
       "67743             dry           machine dbh              borehole   \n",
       "19728        seasonal  rainwater harvesting  rainwater harvesting   \n",
       "\n",
       "       source_class              waterpoint_type waterpoint_type_group  \n",
       "id                                                                      \n",
       "69572   groundwater           communal standpipe    communal standpipe  \n",
       "8776        surface           communal standpipe    communal standpipe  \n",
       "34310       surface  communal standpipe multiple    communal standpipe  \n",
       "67743   groundwater  communal standpipe multiple    communal standpipe  \n",
       "19728       surface           communal standpipe    communal standpipe  \n",
       "\n",
       "[5 rows x 40 columns]"
      ]
     },
     "execution_count": 7,
     "metadata": {},
     "output_type": "execute_result"
    }
   ],
   "source": [
    "#creating a join\n",
    "water_data = pd.merge(df_1, df_2, on= \"id\", how= \"inner\")\n",
    "#seeing the first five rowa\n",
    "water_data.head()"
   ]
  },
  {
   "cell_type": "markdown",
   "metadata": {},
   "source": [
    "Inspecting our new merged data frame"
   ]
  },
  {
   "cell_type": "code",
   "execution_count": 8,
   "metadata": {},
   "outputs": [
    {
     "name": "stdout",
     "output_type": "stream",
     "text": [
      "<class 'pandas.core.frame.DataFrame'>\n",
      "Index: 59400 entries, 69572 to 26348\n",
      "Data columns (total 40 columns):\n",
      " #   Column                 Non-Null Count  Dtype  \n",
      "---  ------                 --------------  -----  \n",
      " 0   status_group           59400 non-null  object \n",
      " 1   amount_tsh             59400 non-null  float64\n",
      " 2   date_recorded          59400 non-null  object \n",
      " 3   funder                 55763 non-null  object \n",
      " 4   gps_height             59400 non-null  int64  \n",
      " 5   installer              55745 non-null  object \n",
      " 6   longitude              59400 non-null  float64\n",
      " 7   latitude               59400 non-null  float64\n",
      " 8   wpt_name               59398 non-null  object \n",
      " 9   num_private            59400 non-null  int64  \n",
      " 10  basin                  59400 non-null  object \n",
      " 11  subvillage             59029 non-null  object \n",
      " 12  region                 59400 non-null  object \n",
      " 13  region_code            59400 non-null  int64  \n",
      " 14  district_code          59400 non-null  int64  \n",
      " 15  lga                    59400 non-null  object \n",
      " 16  ward                   59400 non-null  object \n",
      " 17  population             59400 non-null  int64  \n",
      " 18  public_meeting         56066 non-null  object \n",
      " 19  recorded_by            59400 non-null  object \n",
      " 20  scheme_management      55522 non-null  object \n",
      " 21  scheme_name            30590 non-null  object \n",
      " 22  permit                 56344 non-null  object \n",
      " 23  construction_year      59400 non-null  int64  \n",
      " 24  extraction_type        59400 non-null  object \n",
      " 25  extraction_type_group  59400 non-null  object \n",
      " 26  extraction_type_class  59400 non-null  object \n",
      " 27  management             59400 non-null  object \n",
      " 28  management_group       59400 non-null  object \n",
      " 29  payment                59400 non-null  object \n",
      " 30  payment_type           59400 non-null  object \n",
      " 31  water_quality          59400 non-null  object \n",
      " 32  quality_group          59400 non-null  object \n",
      " 33  quantity               59400 non-null  object \n",
      " 34  quantity_group         59400 non-null  object \n",
      " 35  source                 59400 non-null  object \n",
      " 36  source_type            59400 non-null  object \n",
      " 37  source_class           59400 non-null  object \n",
      " 38  waterpoint_type        59400 non-null  object \n",
      " 39  waterpoint_type_group  59400 non-null  object \n",
      "dtypes: float64(3), int64(6), object(31)\n",
      "memory usage: 18.6+ MB\n"
     ]
    }
   ],
   "source": [
    "#\n",
    "water_data.info()"
   ]
  },
  {
   "cell_type": "markdown",
   "metadata": {},
   "source": [
    "Summary statistics for our numerical columns in our dataset"
   ]
  },
  {
   "cell_type": "code",
   "execution_count": 9,
   "metadata": {},
   "outputs": [
    {
     "data": {
      "text/html": [
       "<div>\n",
       "<style scoped>\n",
       "    .dataframe tbody tr th:only-of-type {\n",
       "        vertical-align: middle;\n",
       "    }\n",
       "\n",
       "    .dataframe tbody tr th {\n",
       "        vertical-align: top;\n",
       "    }\n",
       "\n",
       "    .dataframe thead th {\n",
       "        text-align: right;\n",
       "    }\n",
       "</style>\n",
       "<table border=\"1\" class=\"dataframe\">\n",
       "  <thead>\n",
       "    <tr style=\"text-align: right;\">\n",
       "      <th></th>\n",
       "      <th>amount_tsh</th>\n",
       "      <th>gps_height</th>\n",
       "      <th>longitude</th>\n",
       "      <th>latitude</th>\n",
       "      <th>num_private</th>\n",
       "      <th>region_code</th>\n",
       "      <th>district_code</th>\n",
       "      <th>population</th>\n",
       "      <th>construction_year</th>\n",
       "    </tr>\n",
       "  </thead>\n",
       "  <tbody>\n",
       "    <tr>\n",
       "      <th>count</th>\n",
       "      <td>59400.000000</td>\n",
       "      <td>59400.000000</td>\n",
       "      <td>59400.000000</td>\n",
       "      <td>5.940000e+04</td>\n",
       "      <td>59400.000000</td>\n",
       "      <td>59400.000000</td>\n",
       "      <td>59400.000000</td>\n",
       "      <td>59400.000000</td>\n",
       "      <td>59400.000000</td>\n",
       "    </tr>\n",
       "    <tr>\n",
       "      <th>mean</th>\n",
       "      <td>317.650385</td>\n",
       "      <td>668.297239</td>\n",
       "      <td>34.077427</td>\n",
       "      <td>-5.706033e+00</td>\n",
       "      <td>0.474141</td>\n",
       "      <td>15.297003</td>\n",
       "      <td>5.629747</td>\n",
       "      <td>179.909983</td>\n",
       "      <td>1300.652475</td>\n",
       "    </tr>\n",
       "    <tr>\n",
       "      <th>std</th>\n",
       "      <td>2997.574558</td>\n",
       "      <td>693.116350</td>\n",
       "      <td>6.567432</td>\n",
       "      <td>2.946019e+00</td>\n",
       "      <td>12.236230</td>\n",
       "      <td>17.587406</td>\n",
       "      <td>9.633649</td>\n",
       "      <td>471.482176</td>\n",
       "      <td>951.620547</td>\n",
       "    </tr>\n",
       "    <tr>\n",
       "      <th>min</th>\n",
       "      <td>0.000000</td>\n",
       "      <td>-90.000000</td>\n",
       "      <td>0.000000</td>\n",
       "      <td>-1.164944e+01</td>\n",
       "      <td>0.000000</td>\n",
       "      <td>1.000000</td>\n",
       "      <td>0.000000</td>\n",
       "      <td>0.000000</td>\n",
       "      <td>0.000000</td>\n",
       "    </tr>\n",
       "    <tr>\n",
       "      <th>25%</th>\n",
       "      <td>0.000000</td>\n",
       "      <td>0.000000</td>\n",
       "      <td>33.090347</td>\n",
       "      <td>-8.540621e+00</td>\n",
       "      <td>0.000000</td>\n",
       "      <td>5.000000</td>\n",
       "      <td>2.000000</td>\n",
       "      <td>0.000000</td>\n",
       "      <td>0.000000</td>\n",
       "    </tr>\n",
       "    <tr>\n",
       "      <th>50%</th>\n",
       "      <td>0.000000</td>\n",
       "      <td>369.000000</td>\n",
       "      <td>34.908743</td>\n",
       "      <td>-5.021597e+00</td>\n",
       "      <td>0.000000</td>\n",
       "      <td>12.000000</td>\n",
       "      <td>3.000000</td>\n",
       "      <td>25.000000</td>\n",
       "      <td>1986.000000</td>\n",
       "    </tr>\n",
       "    <tr>\n",
       "      <th>75%</th>\n",
       "      <td>20.000000</td>\n",
       "      <td>1319.250000</td>\n",
       "      <td>37.178387</td>\n",
       "      <td>-3.326156e+00</td>\n",
       "      <td>0.000000</td>\n",
       "      <td>17.000000</td>\n",
       "      <td>5.000000</td>\n",
       "      <td>215.000000</td>\n",
       "      <td>2004.000000</td>\n",
       "    </tr>\n",
       "    <tr>\n",
       "      <th>max</th>\n",
       "      <td>350000.000000</td>\n",
       "      <td>2770.000000</td>\n",
       "      <td>40.345193</td>\n",
       "      <td>-2.000000e-08</td>\n",
       "      <td>1776.000000</td>\n",
       "      <td>99.000000</td>\n",
       "      <td>80.000000</td>\n",
       "      <td>30500.000000</td>\n",
       "      <td>2013.000000</td>\n",
       "    </tr>\n",
       "  </tbody>\n",
       "</table>\n",
       "</div>"
      ],
      "text/plain": [
       "          amount_tsh    gps_height     longitude      latitude   num_private  \\\n",
       "count   59400.000000  59400.000000  59400.000000  5.940000e+04  59400.000000   \n",
       "mean      317.650385    668.297239     34.077427 -5.706033e+00      0.474141   \n",
       "std      2997.574558    693.116350      6.567432  2.946019e+00     12.236230   \n",
       "min         0.000000    -90.000000      0.000000 -1.164944e+01      0.000000   \n",
       "25%         0.000000      0.000000     33.090347 -8.540621e+00      0.000000   \n",
       "50%         0.000000    369.000000     34.908743 -5.021597e+00      0.000000   \n",
       "75%        20.000000   1319.250000     37.178387 -3.326156e+00      0.000000   \n",
       "max    350000.000000   2770.000000     40.345193 -2.000000e-08   1776.000000   \n",
       "\n",
       "        region_code  district_code    population  construction_year  \n",
       "count  59400.000000   59400.000000  59400.000000       59400.000000  \n",
       "mean      15.297003       5.629747    179.909983        1300.652475  \n",
       "std       17.587406       9.633649    471.482176         951.620547  \n",
       "min        1.000000       0.000000      0.000000           0.000000  \n",
       "25%        5.000000       2.000000      0.000000           0.000000  \n",
       "50%       12.000000       3.000000     25.000000        1986.000000  \n",
       "75%       17.000000       5.000000    215.000000        2004.000000  \n",
       "max       99.000000      80.000000  30500.000000        2013.000000  "
      ]
     },
     "execution_count": 9,
     "metadata": {},
     "output_type": "execute_result"
    }
   ],
   "source": [
    "#getting summary statistics for our numeric columns\n",
    "water_data.describe()"
   ]
  },
  {
   "cell_type": "code",
   "execution_count": 10,
   "metadata": {},
   "outputs": [],
   "source": [
    "#converting dates from objects to DateTime data types\n",
    "water_data[\"construction_year\"] = pd.to_datetime(water_data[\"construction_year\"])\n",
    "water_data[\"date_recorded\"] = pd.to_datetime(water_data[\"date_recorded\"])"
   ]
  },
  {
   "cell_type": "markdown",
   "metadata": {},
   "source": [
    "## 3 Description of columns/ column understanding\n",
    "#### Understanding what our columns contain and checking the similarities between colummns"
   ]
  },
  {
   "cell_type": "code",
   "execution_count": 11,
   "metadata": {},
   "outputs": [
    {
     "data": {
      "text/plain": [
       "Index(['status_group', 'amount_tsh', 'date_recorded', 'funder', 'gps_height',\n",
       "       'installer', 'longitude', 'latitude', 'wpt_name', 'num_private',\n",
       "       'basin', 'subvillage', 'region', 'region_code', 'district_code', 'lga',\n",
       "       'ward', 'population', 'public_meeting', 'recorded_by',\n",
       "       'scheme_management', 'scheme_name', 'permit', 'construction_year',\n",
       "       'extraction_type', 'extraction_type_group', 'extraction_type_class',\n",
       "       'management', 'management_group', 'payment', 'payment_type',\n",
       "       'water_quality', 'quality_group', 'quantity', 'quantity_group',\n",
       "       'source', 'source_type', 'source_class', 'waterpoint_type',\n",
       "       'waterpoint_type_group'],\n",
       "      dtype='object')"
      ]
     },
     "execution_count": 11,
     "metadata": {},
     "output_type": "execute_result"
    }
   ],
   "source": [
    "#getting columns\n",
    "water_data.columns"
   ]
  },
  {
   "cell_type": "markdown",
   "metadata": {},
   "source": [
    "There are a few columns that are missing values but population and scheme_name are missing a lot(almost 21,000 records). Since scheme_managment provides the close to the same information according to the data documentation, we will drop scheme_name\n"
   ]
  },
  {
   "cell_type": "code",
   "execution_count": 12,
   "metadata": {},
   "outputs": [],
   "source": [
    "#dropping scheme_name\n",
    "water_data = water_data.drop([\"scheme_name\"], axis=1)"
   ]
  },
  {
   "cell_type": "markdown",
   "metadata": {},
   "source": [
    "I have also noticed that some of the features have almost similar discriptions and values. We will be check these to see if the columns are duplicates and if so  get rid of some of them to reduce feature dimensionality in our analysis.\n",
    "\n",
    "I will write a helper function to help us get the feature name, number of unique values, the unique values and number of missing or Nan values. This function takes in a column or columns iterates through it and prints out the specified fields above"
   ]
  },
  {
   "cell_type": "code",
   "execution_count": 13,
   "metadata": {},
   "outputs": [],
   "source": [
    "#Helper function\n",
    "def column_checking(column):\n",
    "    for i in column:\n",
    "        print(\"Feature Name:\", i)\n",
    "        print(\"Number of Unique Values:\", len(water_data[i].unique()))\n",
    "        print(\"Unique Values:\", water_data[i].unique())\n",
    "        print(\"Missing Values:\", water_data[i].isna().sum())\n",
    "        print('\\n')\n",
    "        "
   ]
  },
  {
   "cell_type": "markdown",
   "metadata": {},
   "source": [
    "#### 3.1 Funder and installer\n",
    "These two columns talk about who funded the well and who installed the well"
   ]
  },
  {
   "cell_type": "code",
   "execution_count": 14,
   "metadata": {},
   "outputs": [
    {
     "name": "stdout",
     "output_type": "stream",
     "text": [
      "Feature Name: funder\n",
      "Number of Unique Values: 1897\n",
      "Unique Values: ['Roman' 'Grumeti' 'Lottery Club' ... 'Dina' 'Brown' 'Samlo']\n",
      "Missing Values: 3637\n",
      "\n",
      "\n",
      "Feature Name: installer\n",
      "Number of Unique Values: 2146\n",
      "Unique Values: ['Roman' 'GRUMETI' 'World vision' ... 'Dina' 'brown' 'SELEPTA']\n",
      "Missing Values: 3655\n",
      "\n",
      "\n"
     ]
    }
   ],
   "source": [
    "column_checking([\"funder\", \"installer\"])"
   ]
  },
  {
   "cell_type": "markdown",
   "metadata": {},
   "source": [
    "##### We are going to drop funder since it has less number of unique values. \"installer\" column has more unique values meaning it explains more of the data"
   ]
  },
  {
   "cell_type": "code",
   "execution_count": 15,
   "metadata": {},
   "outputs": [],
   "source": [
    "water_data = water_data.drop(\"funder\", axis = 1)"
   ]
  },
  {
   "cell_type": "markdown",
   "metadata": {},
   "source": [
    "They both seem to have the same unique values and the funder column has more missing values than the installer column. The funder column also seems to have no impact in our analysis and we are going to drop it and use the installer column"
   ]
  },
  {
   "cell_type": "markdown",
   "metadata": {},
   "source": [
    "#### 3.2 Subvillage/ region/ region_code/ district_code/ lga/ ward\n",
    "#### Contains information about different aspects of the location hierarchy."
   ]
  },
  {
   "cell_type": "code",
   "execution_count": 16,
   "metadata": {},
   "outputs": [
    {
     "name": "stdout",
     "output_type": "stream",
     "text": [
      "Feature Name: subvillage\n",
      "Number of Unique Values: 19288\n",
      "Unique Values: ['Mnyusi B' 'Nyamara' 'Majengo' ... 'Itete B' 'Maore Kati' 'Kikatanyemba']\n",
      "Missing Values: 371\n",
      "\n",
      "\n",
      "Feature Name: region\n",
      "Number of Unique Values: 21\n",
      "Unique Values: ['Iringa' 'Mara' 'Manyara' 'Mtwara' 'Kagera' 'Tanga' 'Shinyanga' 'Tabora'\n",
      " 'Pwani' 'Ruvuma' 'Kilimanjaro' 'Rukwa' 'Mwanza' 'Kigoma' 'Lindi' 'Dodoma'\n",
      " 'Arusha' 'Mbeya' 'Singida' 'Morogoro' 'Dar es Salaam']\n",
      "Missing Values: 0\n",
      "\n",
      "\n",
      "Feature Name: region_code\n",
      "Number of Unique Values: 27\n",
      "Unique Values: [11 20 21 90 18  4 17 14 60 10  3 15 19 16 80  1  6  2 12 13  5  7 99 24\n",
      "  9  8 40]\n",
      "Missing Values: 0\n",
      "\n",
      "\n",
      "Feature Name: district_code\n",
      "Number of Unique Values: 20\n",
      "Unique Values: [ 5  2  4 63  1  8  3  6 43  7 23 33 53 62 60 30 13  0 80 67]\n",
      "Missing Values: 0\n",
      "\n",
      "\n"
     ]
    }
   ],
   "source": [
    "column_checking([\"subvillage\", \"region\", \"region_code\", \"district_code\"])"
   ]
  },
  {
   "cell_type": "markdown",
   "metadata": {},
   "source": [
    "All the above columns represent the geographical location of water wells in Tanzania.The subvillage column contains 19288 unique values  which makes it hard for analysis especially during one-hot encoding. Also this column is not relevant in our analysis since name of village has no influence in predicting the status of a pump. Both region code and district_code are in numbers making it hard to decipher information from it so we are going to drop them.This leaves with region column with 21 unique values and 0 missing data. We are going to keep this column as it is important for our analysis."
   ]
  },
  {
   "cell_type": "code",
   "execution_count": 17,
   "metadata": {},
   "outputs": [],
   "source": [
    "#dropping subvillage,region_code, district_code, \n",
    "water_data = water_data.drop([\"subvillage\", \"region_code\", \"district_code\"], axis= 1)"
   ]
  },
  {
   "cell_type": "code",
   "execution_count": 18,
   "metadata": {},
   "outputs": [
    {
     "name": "stdout",
     "output_type": "stream",
     "text": [
      "Feature Name: lga\n",
      "Number of Unique Values: 125\n",
      "Unique Values: ['Ludewa' 'Serengeti' 'Simanjiro' 'Nanyumbu' 'Karagwe' 'Mkinga'\n",
      " 'Shinyanga Rural' 'Kahama' 'Tabora Urban' 'Mkuranga' 'Namtumbo' 'Maswa'\n",
      " 'Siha' 'Meatu' 'Sumbawanga Rural' 'Njombe' 'Ukerewe' 'Bariadi' 'Same'\n",
      " 'Kigoma Rural' 'Moshi Rural' 'Lindi Rural' 'Rombo' 'Chamwino' 'Bagamoyo'\n",
      " 'Mafia' 'Arusha Rural' 'Kyela' 'Kondoa' 'Kilolo' 'Kibondo' 'Makete'\n",
      " 'Singida Rural' 'Masasi' 'Rungwe' 'Moshi Urban' 'Geita' 'Mbulu'\n",
      " 'Bukoba Rural' 'Muheza' 'Lushoto' 'Meru' 'Iramba' 'Kilombero' 'Mbarali'\n",
      " 'Kasulu' 'Bukoba Urban' 'Korogwe' 'Bukombe' 'Morogoro Rural' 'Kishapu'\n",
      " 'Musoma Rural' 'Sengerema' 'Iringa Rural' 'Muleba' 'Dodoma Urban'\n",
      " 'Ruangwa' 'Hanang' 'Misenyi' 'Missungwi' 'Songea Rural' 'Tanga' 'Tunduru'\n",
      " 'Hai' 'Mwanga' 'Chato' 'Biharamulo' 'Ileje' 'Mpwapwa' 'Mvomero' 'Bunda'\n",
      " 'Kiteto' 'Longido' 'Urambo' 'Mbozi' 'Sikonge' 'Ilala' 'Tarime' 'Temeke'\n",
      " 'Mbeya Rural' 'Magu' 'Manyoni' 'Igunga' 'Kilosa' 'Babati' 'Chunya'\n",
      " 'Mufindi' 'Mtwara Rural' 'Ngara' 'Karatu' 'Mpanda' 'Kibaha'\n",
      " 'Singida Urban' 'Newala' 'Nzega' 'Nkasi' 'Bahi' 'Mbinga' 'Ulanga'\n",
      " 'Sumbawanga Urban' 'Morogoro Urban' 'Tandahimba' 'Kisarawe'\n",
      " 'Mtwara Urban' 'Kilwa' 'Liwale' 'Kongwa' 'Uyui' 'Rufiji' 'Kwimba'\n",
      " 'Monduli' 'Shinyanga Urban' 'Ngorongoro' 'Handeni' 'Rorya' 'Pangani'\n",
      " 'Lindi Urban' 'Nachingwea' 'Kinondoni' 'Kigoma Urban' 'Ilemela' 'Kilindi'\n",
      " 'Arusha Urban' 'Songea Urban' 'Nyamagana']\n",
      "Missing Values: 0\n",
      "\n",
      "\n"
     ]
    }
   ],
   "source": [
    "#checking lga column\n",
    "column_checking([\"lga\"])"
   ]
  },
  {
   "cell_type": "markdown",
   "metadata": {},
   "source": [
    "\"LGA\" stands for \"Local Government Area.\" It refers to a specific administrative division or region within a country or a larger administrative boundary. Represents an administrative or governmental subdivision within a country, typically smaller than a state or province. We are going to keep it and use it in our EDA and drop it later when modeling"
   ]
  },
  {
   "cell_type": "code",
   "execution_count": 19,
   "metadata": {},
   "outputs": [
    {
     "name": "stdout",
     "output_type": "stream",
     "text": [
      "Feature Name: ward\n",
      "Number of Unique Values: 2092\n",
      "Unique Values: ['Mundindi' 'Natta' 'Ngorika' ... 'Chinugulu' 'Nyamtinga' 'Kinungu']\n",
      "Missing Values: 0\n",
      "\n",
      "\n"
     ]
    }
   ],
   "source": [
    "column_checking([\"ward\"])"
   ]
  },
  {
   "cell_type": "code",
   "execution_count": 20,
   "metadata": {},
   "outputs": [],
   "source": [
    "water_data = water_data.drop(\"ward\", axis= 1)"
   ]
  },
  {
   "cell_type": "markdown",
   "metadata": {},
   "source": [
    "The \"ward \" column has 2092 distinct strings making it hard for our analysis.. We drop it.\n",
    "\n",
    "#### 3.4 extraction_type/extraction_type_group/extraction_type_class\n",
    "##### often provide hierarchical information about how water is extracted or the mechanism used for extraction. \n",
    "\n"
   ]
  },
  {
   "cell_type": "code",
   "execution_count": 21,
   "metadata": {},
   "outputs": [
    {
     "name": "stdout",
     "output_type": "stream",
     "text": [
      "Feature Name: extraction_type\n",
      "Number of Unique Values: 18\n",
      "Unique Values: ['gravity' 'submersible' 'swn 80' 'nira/tanira' 'india mark ii' 'other'\n",
      " 'ksb' 'mono' 'windmill' 'afridev' 'other - rope pump' 'india mark iii'\n",
      " 'other - swn 81' 'other - play pump' 'cemo' 'climax' 'walimi'\n",
      " 'other - mkulima/shinyanga']\n",
      "Missing Values: 0\n",
      "\n",
      "\n",
      "Feature Name: extraction_type_group\n",
      "Number of Unique Values: 13\n",
      "Unique Values: ['gravity' 'submersible' 'swn 80' 'nira/tanira' 'india mark ii' 'other'\n",
      " 'mono' 'wind-powered' 'afridev' 'rope pump' 'india mark iii'\n",
      " 'other handpump' 'other motorpump']\n",
      "Missing Values: 0\n",
      "\n",
      "\n",
      "Feature Name: extraction_type_class\n",
      "Number of Unique Values: 7\n",
      "Unique Values: ['gravity' 'submersible' 'handpump' 'other' 'motorpump' 'wind-powered'\n",
      " 'rope pump']\n",
      "Missing Values: 0\n",
      "\n",
      "\n"
     ]
    }
   ],
   "source": [
    "column_checking([\"extraction_type\",\"extraction_type_group\", \"extraction_type_class\"])"
   ]
  },
  {
   "cell_type": "markdown",
   "metadata": {},
   "source": [
    "All the three columns contain thr same  data. Extraction_type is the super class and the other two are subsets. Extraction type has different man-powered mechanisms assigned as other many times and in the real sense they mean the same thing(There is no pump). \"Extraction_type_group\" column  has \"other\" as a unique value meaning all the man-powered mechanisms has been summed up into one category. We are going to use this column for our analysis and drop the other two columns."
   ]
  },
  {
   "cell_type": "code",
   "execution_count": 22,
   "metadata": {},
   "outputs": [],
   "source": [
    "#dropping extraction_type and extraction_type_class\n",
    "water_data = water_data.drop([\"extraction_type\", \"extraction_type_class\"], axis= 1)"
   ]
  },
  {
   "cell_type": "markdown",
   "metadata": {},
   "source": [
    "### 3.5 scheme_managemnet/ mnanagement/ management_group\n",
    "#### "
   ]
  },
  {
   "cell_type": "code",
   "execution_count": 23,
   "metadata": {},
   "outputs": [
    {
     "name": "stdout",
     "output_type": "stream",
     "text": [
      "Feature Name: management\n",
      "Number of Unique Values: 12\n",
      "Unique Values: ['vwc' 'wug' 'other' 'private operator' 'water board' 'wua' 'company'\n",
      " 'water authority' 'parastatal' 'unknown' 'other - school' 'trust']\n",
      "Missing Values: 0\n",
      "\n",
      "\n",
      "Feature Name: scheme_management\n",
      "Number of Unique Values: 12\n",
      "Unique Values: ['VWC' 'Other' nan 'Private operator' 'WUG' 'Water Board' 'WUA'\n",
      " 'Water authority' 'Company' 'Parastatal' 'Trust' 'SWC']\n",
      "Missing Values: 3878\n",
      "\n",
      "\n",
      "Feature Name: management_group\n",
      "Number of Unique Values: 5\n",
      "Unique Values: ['user-group' 'other' 'commercial' 'parastatal' 'unknown']\n",
      "Missing Values: 0\n",
      "\n",
      "\n"
     ]
    }
   ],
   "source": [
    "#checking management, scheme_management, management\n",
    "column_checking([\"management\", \"scheme_management\", \"management_group\"])"
   ]
  },
  {
   "cell_type": "markdown",
   "metadata": {},
   "source": [
    " ##### These columns also almost similar except for a few features in the data. The management column is complete with no missing values, \"Scheme_management\" the same except it has missing values so we drop it. The \"management_group\" column has summarized the whole categories in the management group so we are going to keep it and use it during one-hot encoding instead of management due to computational power available but we are gonna use them for analysis."
   ]
  },
  {
   "cell_type": "code",
   "execution_count": 24,
   "metadata": {},
   "outputs": [],
   "source": [
    "#dropping scheme_management\n",
    "water_data = water_data.drop(\"scheme_management\", axis = 1)"
   ]
  },
  {
   "cell_type": "markdown",
   "metadata": {},
   "source": [
    "### 3.6 payment/ payment_type"
   ]
  },
  {
   "cell_type": "code",
   "execution_count": 25,
   "metadata": {},
   "outputs": [
    {
     "name": "stdout",
     "output_type": "stream",
     "text": [
      "Feature Name: payment\n",
      "Number of Unique Values: 7\n",
      "Unique Values: ['pay annually' 'never pay' 'pay per bucket' 'unknown'\n",
      " 'pay when scheme fails' 'other' 'pay monthly']\n",
      "Missing Values: 0\n",
      "\n",
      "\n",
      "Feature Name: payment_type\n",
      "Number of Unique Values: 7\n",
      "Unique Values: ['annually' 'never pay' 'per bucket' 'unknown' 'on failure' 'other'\n",
      " 'monthly']\n",
      "Missing Values: 0\n",
      "\n",
      "\n"
     ]
    }
   ],
   "source": [
    "#checking payment and payment_type\n",
    "column_checking([\"payment\", \"payment_type\"])"
   ]
  },
  {
   "cell_type": "markdown",
   "metadata": {},
   "source": [
    "##### These columns are similar except for how values have been named. We are going to drop payment and remain with payment_type"
   ]
  },
  {
   "cell_type": "code",
   "execution_count": 26,
   "metadata": {},
   "outputs": [],
   "source": [
    "water_data = water_data.drop(\"payment\", axis= 1)"
   ]
  },
  {
   "cell_type": "markdown",
   "metadata": {},
   "source": [
    "### 3.7 water quality/ quality_group"
   ]
  },
  {
   "cell_type": "code",
   "execution_count": 27,
   "metadata": {},
   "outputs": [
    {
     "name": "stdout",
     "output_type": "stream",
     "text": [
      "Feature Name: water_quality\n",
      "Number of Unique Values: 8\n",
      "Unique Values: ['soft' 'salty' 'milky' 'unknown' 'fluoride' 'coloured' 'salty abandoned'\n",
      " 'fluoride abandoned']\n",
      "Missing Values: 0\n",
      "\n",
      "\n",
      "Feature Name: quality_group\n",
      "Number of Unique Values: 6\n",
      "Unique Values: ['good' 'salty' 'milky' 'unknown' 'fluoride' 'colored']\n",
      "Missing Values: 0\n",
      "\n",
      "\n"
     ]
    }
   ],
   "source": [
    "#checking quality and quality_group\n",
    "column_checking([\"water_quality\", \"quality_group\"])"
   ]
  },
  {
   "cell_type": "markdown",
   "metadata": {},
   "source": [
    "##### \"water_quality\" column has two more values talking about abandoned water. We will keep this column and analyze it better and drop the \"quality_group\" column"
   ]
  },
  {
   "cell_type": "code",
   "execution_count": 28,
   "metadata": {},
   "outputs": [],
   "source": [
    "water_data = water_data.drop(\"quality_group\", axis= 1)"
   ]
  },
  {
   "cell_type": "markdown",
   "metadata": {},
   "source": [
    "### 3.8 quantity / quantity_group"
   ]
  },
  {
   "cell_type": "code",
   "execution_count": 29,
   "metadata": {},
   "outputs": [
    {
     "name": "stdout",
     "output_type": "stream",
     "text": [
      "Feature Name: quantity\n",
      "Number of Unique Values: 5\n",
      "Unique Values: ['enough' 'insufficient' 'dry' 'seasonal' 'unknown']\n",
      "Missing Values: 0\n",
      "\n",
      "\n",
      "Feature Name: quantity_group\n",
      "Number of Unique Values: 5\n",
      "Unique Values: ['enough' 'insufficient' 'dry' 'seasonal' 'unknown']\n",
      "Missing Values: 0\n",
      "\n",
      "\n"
     ]
    }
   ],
   "source": [
    "#checking quantity and quantity_group\n",
    "column_checking([\"quantity\", \"quantity_group\"])"
   ]
  },
  {
   "cell_type": "markdown",
   "metadata": {},
   "source": [
    "#### They both convey the same thing so we drop one"
   ]
  },
  {
   "cell_type": "code",
   "execution_count": 30,
   "metadata": {},
   "outputs": [],
   "source": [
    "water_data = water_data.drop(\"quantity_group\", axis= 1)"
   ]
  },
  {
   "cell_type": "markdown",
   "metadata": {},
   "source": [
    "### 3.9 source/ source_type/ source_class"
   ]
  },
  {
   "cell_type": "code",
   "execution_count": 31,
   "metadata": {},
   "outputs": [
    {
     "name": "stdout",
     "output_type": "stream",
     "text": [
      "Feature Name: source\n",
      "Number of Unique Values: 10\n",
      "Unique Values: ['spring' 'rainwater harvesting' 'dam' 'machine dbh' 'other'\n",
      " 'shallow well' 'river' 'hand dtw' 'lake' 'unknown']\n",
      "Missing Values: 0\n",
      "\n",
      "\n",
      "Feature Name: source_type\n",
      "Number of Unique Values: 7\n",
      "Unique Values: ['spring' 'rainwater harvesting' 'dam' 'borehole' 'other' 'shallow well'\n",
      " 'river/lake']\n",
      "Missing Values: 0\n",
      "\n",
      "\n",
      "Feature Name: source_class\n",
      "Number of Unique Values: 3\n",
      "Unique Values: ['groundwater' 'surface' 'unknown']\n",
      "Missing Values: 0\n",
      "\n",
      "\n"
     ]
    }
   ],
   "source": [
    "#checking water source\n",
    "column_checking([\"source\", \"source_type\", \"source_class\"])"
   ]
  },
  {
   "cell_type": "markdown",
   "metadata": {},
   "source": [
    "##### The \"source column has ten distinct values making it a superclass of the \"source_type\" column. The \"source_class\" column only tells us if the water source is river or a well. i.e surface or ground. We are going to drop the \"source_type\" column and keep the other two but we are not going to use \"source_class\" in our models but it can come handy in exploratory analysis"
   ]
  },
  {
   "cell_type": "code",
   "execution_count": 32,
   "metadata": {},
   "outputs": [],
   "source": [
    "water_data = water_data.drop(\"source_type\", axis= 1)"
   ]
  },
  {
   "cell_type": "markdown",
   "metadata": {},
   "source": [
    "### 3.10 waterpoint_type / waterpoint_type_group"
   ]
  },
  {
   "cell_type": "code",
   "execution_count": 33,
   "metadata": {},
   "outputs": [
    {
     "name": "stdout",
     "output_type": "stream",
     "text": [
      "Feature Name: waterpoint_type\n",
      "Number of Unique Values: 7\n",
      "Unique Values: ['communal standpipe' 'communal standpipe multiple' 'hand pump' 'other'\n",
      " 'improved spring' 'cattle trough' 'dam']\n",
      "Missing Values: 0\n",
      "\n",
      "\n",
      "Feature Name: waterpoint_type_group\n",
      "Number of Unique Values: 6\n",
      "Unique Values: ['communal standpipe' 'hand pump' 'other' 'improved spring'\n",
      " 'cattle trough' 'dam']\n",
      "Missing Values: 0\n",
      "\n",
      "\n",
      "Feature Name: wpt_name\n",
      "Number of Unique Values: 37400\n",
      "Unique Values: ['none' 'Zahanati' 'Kwa Mahundi' ... 'Kwa Yahona Kuvala' 'Mshoro'\n",
      " 'Kwa Mzee Lugawa']\n",
      "Missing Values: 2\n",
      "\n",
      "\n"
     ]
    }
   ],
   "source": [
    "column_checking([\"waterpoint_type\", \"waterpoint_type_group\", \"wpt_name\"])"
   ]
  },
  {
   "cell_type": "markdown",
   "metadata": {},
   "source": [
    "##### \"waterpoint_type\" column has an extra feature than the other column so we are gonna drop it"
   ]
  },
  {
   "cell_type": "code",
   "execution_count": 34,
   "metadata": {},
   "outputs": [],
   "source": [
    "#dropping water_type_group\n",
    "water_data = water_data.drop(\"waterpoint_type_group\", axis= 1)"
   ]
  },
  {
   "cell_type": "markdown",
   "metadata": {},
   "source": [
    "### 3.11 funder / installer"
   ]
  },
  {
   "cell_type": "markdown",
   "metadata": {},
   "source": [
    "\n",
    "##### Now that we are done with similar columns lets inspect other columns to know if they are relevant to us before we sort missing values. We are going to print the first five rows to see the columns we are remaing with"
   ]
  },
  {
   "cell_type": "code",
   "execution_count": 35,
   "metadata": {},
   "outputs": [
    {
     "data": {
      "text/html": [
       "<div>\n",
       "<style scoped>\n",
       "    .dataframe tbody tr th:only-of-type {\n",
       "        vertical-align: middle;\n",
       "    }\n",
       "\n",
       "    .dataframe tbody tr th {\n",
       "        vertical-align: top;\n",
       "    }\n",
       "\n",
       "    .dataframe thead th {\n",
       "        text-align: right;\n",
       "    }\n",
       "</style>\n",
       "<table border=\"1\" class=\"dataframe\">\n",
       "  <thead>\n",
       "    <tr style=\"text-align: right;\">\n",
       "      <th></th>\n",
       "      <th>status_group</th>\n",
       "      <th>amount_tsh</th>\n",
       "      <th>date_recorded</th>\n",
       "      <th>gps_height</th>\n",
       "      <th>installer</th>\n",
       "      <th>longitude</th>\n",
       "      <th>latitude</th>\n",
       "      <th>wpt_name</th>\n",
       "      <th>num_private</th>\n",
       "      <th>basin</th>\n",
       "      <th>...</th>\n",
       "      <th>construction_year</th>\n",
       "      <th>extraction_type_group</th>\n",
       "      <th>management</th>\n",
       "      <th>management_group</th>\n",
       "      <th>payment_type</th>\n",
       "      <th>water_quality</th>\n",
       "      <th>quantity</th>\n",
       "      <th>source</th>\n",
       "      <th>source_class</th>\n",
       "      <th>waterpoint_type</th>\n",
       "    </tr>\n",
       "    <tr>\n",
       "      <th>id</th>\n",
       "      <th></th>\n",
       "      <th></th>\n",
       "      <th></th>\n",
       "      <th></th>\n",
       "      <th></th>\n",
       "      <th></th>\n",
       "      <th></th>\n",
       "      <th></th>\n",
       "      <th></th>\n",
       "      <th></th>\n",
       "      <th></th>\n",
       "      <th></th>\n",
       "      <th></th>\n",
       "      <th></th>\n",
       "      <th></th>\n",
       "      <th></th>\n",
       "      <th></th>\n",
       "      <th></th>\n",
       "      <th></th>\n",
       "      <th></th>\n",
       "      <th></th>\n",
       "    </tr>\n",
       "  </thead>\n",
       "  <tbody>\n",
       "    <tr>\n",
       "      <th>69572</th>\n",
       "      <td>functional</td>\n",
       "      <td>6000.0</td>\n",
       "      <td>2011-03-14</td>\n",
       "      <td>1390</td>\n",
       "      <td>Roman</td>\n",
       "      <td>34.938093</td>\n",
       "      <td>-9.856322</td>\n",
       "      <td>none</td>\n",
       "      <td>0</td>\n",
       "      <td>Lake Nyasa</td>\n",
       "      <td>...</td>\n",
       "      <td>1970-01-01 00:00:00.000001999</td>\n",
       "      <td>gravity</td>\n",
       "      <td>vwc</td>\n",
       "      <td>user-group</td>\n",
       "      <td>annually</td>\n",
       "      <td>soft</td>\n",
       "      <td>enough</td>\n",
       "      <td>spring</td>\n",
       "      <td>groundwater</td>\n",
       "      <td>communal standpipe</td>\n",
       "    </tr>\n",
       "    <tr>\n",
       "      <th>8776</th>\n",
       "      <td>functional</td>\n",
       "      <td>0.0</td>\n",
       "      <td>2013-03-06</td>\n",
       "      <td>1399</td>\n",
       "      <td>GRUMETI</td>\n",
       "      <td>34.698766</td>\n",
       "      <td>-2.147466</td>\n",
       "      <td>Zahanati</td>\n",
       "      <td>0</td>\n",
       "      <td>Lake Victoria</td>\n",
       "      <td>...</td>\n",
       "      <td>1970-01-01 00:00:00.000002010</td>\n",
       "      <td>gravity</td>\n",
       "      <td>wug</td>\n",
       "      <td>user-group</td>\n",
       "      <td>never pay</td>\n",
       "      <td>soft</td>\n",
       "      <td>insufficient</td>\n",
       "      <td>rainwater harvesting</td>\n",
       "      <td>surface</td>\n",
       "      <td>communal standpipe</td>\n",
       "    </tr>\n",
       "    <tr>\n",
       "      <th>34310</th>\n",
       "      <td>functional</td>\n",
       "      <td>25.0</td>\n",
       "      <td>2013-02-25</td>\n",
       "      <td>686</td>\n",
       "      <td>World vision</td>\n",
       "      <td>37.460664</td>\n",
       "      <td>-3.821329</td>\n",
       "      <td>Kwa Mahundi</td>\n",
       "      <td>0</td>\n",
       "      <td>Pangani</td>\n",
       "      <td>...</td>\n",
       "      <td>1970-01-01 00:00:00.000002009</td>\n",
       "      <td>gravity</td>\n",
       "      <td>vwc</td>\n",
       "      <td>user-group</td>\n",
       "      <td>per bucket</td>\n",
       "      <td>soft</td>\n",
       "      <td>enough</td>\n",
       "      <td>dam</td>\n",
       "      <td>surface</td>\n",
       "      <td>communal standpipe multiple</td>\n",
       "    </tr>\n",
       "    <tr>\n",
       "      <th>67743</th>\n",
       "      <td>non functional</td>\n",
       "      <td>0.0</td>\n",
       "      <td>2013-01-28</td>\n",
       "      <td>263</td>\n",
       "      <td>UNICEF</td>\n",
       "      <td>38.486161</td>\n",
       "      <td>-11.155298</td>\n",
       "      <td>Zahanati Ya Nanyumbu</td>\n",
       "      <td>0</td>\n",
       "      <td>Ruvuma / Southern Coast</td>\n",
       "      <td>...</td>\n",
       "      <td>1970-01-01 00:00:00.000001986</td>\n",
       "      <td>submersible</td>\n",
       "      <td>vwc</td>\n",
       "      <td>user-group</td>\n",
       "      <td>never pay</td>\n",
       "      <td>soft</td>\n",
       "      <td>dry</td>\n",
       "      <td>machine dbh</td>\n",
       "      <td>groundwater</td>\n",
       "      <td>communal standpipe multiple</td>\n",
       "    </tr>\n",
       "    <tr>\n",
       "      <th>19728</th>\n",
       "      <td>functional</td>\n",
       "      <td>0.0</td>\n",
       "      <td>2011-07-13</td>\n",
       "      <td>0</td>\n",
       "      <td>Artisan</td>\n",
       "      <td>31.130847</td>\n",
       "      <td>-1.825359</td>\n",
       "      <td>Shuleni</td>\n",
       "      <td>0</td>\n",
       "      <td>Lake Victoria</td>\n",
       "      <td>...</td>\n",
       "      <td>1970-01-01 00:00:00.000000000</td>\n",
       "      <td>gravity</td>\n",
       "      <td>other</td>\n",
       "      <td>other</td>\n",
       "      <td>never pay</td>\n",
       "      <td>soft</td>\n",
       "      <td>seasonal</td>\n",
       "      <td>rainwater harvesting</td>\n",
       "      <td>surface</td>\n",
       "      <td>communal standpipe</td>\n",
       "    </tr>\n",
       "  </tbody>\n",
       "</table>\n",
       "<p>5 rows × 26 columns</p>\n",
       "</div>"
      ],
      "text/plain": [
       "         status_group  amount_tsh date_recorded  gps_height     installer  \\\n",
       "id                                                                          \n",
       "69572      functional      6000.0    2011-03-14        1390         Roman   \n",
       "8776       functional         0.0    2013-03-06        1399       GRUMETI   \n",
       "34310      functional        25.0    2013-02-25         686  World vision   \n",
       "67743  non functional         0.0    2013-01-28         263        UNICEF   \n",
       "19728      functional         0.0    2011-07-13           0       Artisan   \n",
       "\n",
       "       longitude   latitude              wpt_name  num_private  \\\n",
       "id                                                               \n",
       "69572  34.938093  -9.856322                  none            0   \n",
       "8776   34.698766  -2.147466              Zahanati            0   \n",
       "34310  37.460664  -3.821329           Kwa Mahundi            0   \n",
       "67743  38.486161 -11.155298  Zahanati Ya Nanyumbu            0   \n",
       "19728  31.130847  -1.825359               Shuleni            0   \n",
       "\n",
       "                         basin  ...             construction_year  \\\n",
       "id                              ...                                 \n",
       "69572               Lake Nyasa  ... 1970-01-01 00:00:00.000001999   \n",
       "8776             Lake Victoria  ... 1970-01-01 00:00:00.000002010   \n",
       "34310                  Pangani  ... 1970-01-01 00:00:00.000002009   \n",
       "67743  Ruvuma / Southern Coast  ... 1970-01-01 00:00:00.000001986   \n",
       "19728            Lake Victoria  ... 1970-01-01 00:00:00.000000000   \n",
       "\n",
       "      extraction_type_group  management management_group payment_type  \\\n",
       "id                                                                      \n",
       "69572               gravity         vwc       user-group     annually   \n",
       "8776                gravity         wug       user-group    never pay   \n",
       "34310               gravity         vwc       user-group   per bucket   \n",
       "67743           submersible         vwc       user-group    never pay   \n",
       "19728               gravity       other            other    never pay   \n",
       "\n",
       "      water_quality      quantity                source source_class  \\\n",
       "id                                                                     \n",
       "69572          soft        enough                spring  groundwater   \n",
       "8776           soft  insufficient  rainwater harvesting      surface   \n",
       "34310          soft        enough                   dam      surface   \n",
       "67743          soft           dry           machine dbh  groundwater   \n",
       "19728          soft      seasonal  rainwater harvesting      surface   \n",
       "\n",
       "                   waterpoint_type  \n",
       "id                                  \n",
       "69572           communal standpipe  \n",
       "8776            communal standpipe  \n",
       "34310  communal standpipe multiple  \n",
       "67743  communal standpipe multiple  \n",
       "19728           communal standpipe  \n",
       "\n",
       "[5 rows x 26 columns]"
      ]
     },
     "execution_count": 35,
     "metadata": {},
     "output_type": "execute_result"
    }
   ],
   "source": [
    "water_data.head()"
   ]
  },
  {
   "cell_type": "code",
   "execution_count": 36,
   "metadata": {},
   "outputs": [
    {
     "name": "stdout",
     "output_type": "stream",
     "text": [
      "<class 'pandas.core.frame.DataFrame'>\n",
      "Index: 59400 entries, 69572 to 26348\n",
      "Data columns (total 26 columns):\n",
      " #   Column                 Non-Null Count  Dtype         \n",
      "---  ------                 --------------  -----         \n",
      " 0   status_group           59400 non-null  object        \n",
      " 1   amount_tsh             59400 non-null  float64       \n",
      " 2   date_recorded          59400 non-null  datetime64[ns]\n",
      " 3   gps_height             59400 non-null  int64         \n",
      " 4   installer              55745 non-null  object        \n",
      " 5   longitude              59400 non-null  float64       \n",
      " 6   latitude               59400 non-null  float64       \n",
      " 7   wpt_name               59398 non-null  object        \n",
      " 8   num_private            59400 non-null  int64         \n",
      " 9   basin                  59400 non-null  object        \n",
      " 10  region                 59400 non-null  object        \n",
      " 11  lga                    59400 non-null  object        \n",
      " 12  population             59400 non-null  int64         \n",
      " 13  public_meeting         56066 non-null  object        \n",
      " 14  recorded_by            59400 non-null  object        \n",
      " 15  permit                 56344 non-null  object        \n",
      " 16  construction_year      59400 non-null  datetime64[ns]\n",
      " 17  extraction_type_group  59400 non-null  object        \n",
      " 18  management             59400 non-null  object        \n",
      " 19  management_group       59400 non-null  object        \n",
      " 20  payment_type           59400 non-null  object        \n",
      " 21  water_quality          59400 non-null  object        \n",
      " 22  quantity               59400 non-null  object        \n",
      " 23  source                 59400 non-null  object        \n",
      " 24  source_class           59400 non-null  object        \n",
      " 25  waterpoint_type        59400 non-null  object        \n",
      "dtypes: datetime64[ns](2), float64(3), int64(3), object(18)\n",
      "memory usage: 12.2+ MB\n"
     ]
    }
   ],
   "source": [
    "water_data.info()"
   ]
  },
  {
   "cell_type": "markdown",
   "metadata": {},
   "source": [
    "### 3.12 Looking at other columns"
   ]
  },
  {
   "cell_type": "markdown",
   "metadata": {},
   "source": [
    "### amount_tsh(Total_statistic_head)\n",
    "#### \"Total Static Head\" or \"Total Static Head (TSH).\" It refers to the total amount of water available or stored at a water point, typically in a static or non-moving state. This value signifies the water's pressure at the water point or the maximum height that the water can reach above the water source."
   ]
  },
  {
   "cell_type": "code",
   "execution_count": 37,
   "metadata": {},
   "outputs": [
    {
     "data": {
      "text/plain": [
       "350000.0"
      ]
     },
     "execution_count": 37,
     "metadata": {},
     "output_type": "execute_result"
    }
   ],
   "source": [
    "water_data[\"amount_tsh\"].max()"
   ]
  },
  {
   "cell_type": "markdown",
   "metadata": {},
   "source": [
    "The total statistic per head column has 41639 records indicating the static_head  per well is 0. We will have to further analyze this column with other columns like water quality to determine why the many zeros and if this column is relevant for our analysis\n",
    "\n",
    "### 3.13 gps_height- Altitude of the well\n",
    "##### This column typically represents the altitude or elevation of a well or a water point above sea level, recorded using GPS (Global Positioning System) technology. This value signifies the height or vertical distance of the water point from the Earth's mean sea level.t is usually measured in meters or feet, denoting the well's position in relation to sea level."
   ]
  },
  {
   "cell_type": "code",
   "execution_count": 38,
   "metadata": {},
   "outputs": [
    {
     "data": {
      "image/png": "[encoded data removed]",
      "text/plain": [
       "<Figure size 640x480 with 1 Axes>"
      ]
     },
     "metadata": {},
     "output_type": "display_data"
    }
   ],
   "source": [
    "# water_data[\"gps_height\"].value_counts()\n",
    "sns.histplot(x = \"gps_height\", data = water_data, bins = 20);"
   ]
  },
  {
   "cell_type": "markdown",
   "metadata": {},
   "source": [
    "##### This column is important in understanding the altitudes of our water wells and its relation tour our analysis. We will keep it for use in our EDA.\n",
    "\n",
    "### 3.14 longitude/ latitude\n",
    "##### This column typically represents the geographical coordinates of water wells or water points, recorded using GPS (Global Positioning System) technology. These coordinates provide the specific geographic location of the water points on the Earth's surface.We are going to use it in our exploratory analysis but not in our modeling so we keep it for now\n",
    "\n",
    "### 3.15 num_private - Number of private water wells\n",
    "##### This column in water-related datasets often represents the number of privately owned water points or the number of privately owned water sources associated with a particular water point."
   ]
  },
  {
   "cell_type": "code",
   "execution_count": 39,
   "metadata": {},
   "outputs": [
    {
     "name": "stdout",
     "output_type": "stream",
     "text": [
      "Feature Name: num_private\n",
      "Number of Unique Values: 65\n",
      "Unique Values: [   0   39    5   45    6    3  698   32   15    7   25  102    1   93\n",
      "   14   34  120   17  213   47    8   41   80  141   20   35  131    4\n",
      "   22   11   87   61   65  136    2  180   38   62    9   16   23   42\n",
      "   24   12  668  672   58  150  280  160   50 1776   30   27   10   94\n",
      "   26  450  240  755   60  111  300   55 1402]\n",
      "Missing Values: 0\n",
      "\n",
      "\n"
     ]
    }
   ],
   "source": [
    "column_checking([\"num_private\"])"
   ]
  },
  {
   "cell_type": "markdown",
   "metadata": {},
   "source": [
    "##### It purely contains  numbers stating  the number of wells owned privately in the region. This column might lack explicit information, making its interpretation challenging so we drop it.\n"
   ]
  },
  {
   "cell_type": "code",
   "execution_count": 40,
   "metadata": {},
   "outputs": [],
   "source": [
    "water_data = water_data.drop(\"num_private\", axis = 1)"
   ]
  },
  {
   "cell_type": "markdown",
   "metadata": {},
   "source": [
    "### 3.16 wpt_name - Name of the waterpoint if there is one\n",
    "\n",
    "#####  It contains textual information that identifies or labels individual water points, wells, or water sources, if such names exist.\n"
   ]
  },
  {
   "cell_type": "code",
   "execution_count": 41,
   "metadata": {},
   "outputs": [
    {
     "name": "stdout",
     "output_type": "stream",
     "text": [
      "Feature Name: wpt_name\n",
      "Number of Unique Values: 37400\n",
      "Unique Values: ['none' 'Zahanati' 'Kwa Mahundi' ... 'Kwa Yahona Kuvala' 'Mshoro'\n",
      " 'Kwa Mzee Lugawa']\n",
      "Missing Values: 2\n",
      "\n",
      "\n"
     ]
    }
   ],
   "source": [
    "column_checking([\"wpt_name\"])"
   ]
  },
  {
   "cell_type": "markdown",
   "metadata": {},
   "source": [
    "##### The column has 37400 records of unique water names in Tanzania. This column is helps us know the number of wells under study and their names but not useful in our analysis so we drop it"
   ]
  },
  {
   "cell_type": "code",
   "execution_count": 42,
   "metadata": {},
   "outputs": [],
   "source": [
    "water_data = water_data.drop(\"wpt_name\", axis= 1)"
   ]
  },
  {
   "cell_type": "markdown",
   "metadata": {},
   "source": [
    "### 3.17 Public_meeting\n",
    "##### The \"public_meeting\" column in water-related datasets typically represents whether there was a public meeting held to discuss water issues or water-related projects in the area associated with a particular water point."
   ]
  },
  {
   "cell_type": "code",
   "execution_count": 43,
   "metadata": {},
   "outputs": [
    {
     "data": {
      "text/plain": [
       "public_meeting\n",
       "True     51011\n",
       "False     5055\n",
       "Name: count, dtype: int64"
      ]
     },
     "execution_count": 43,
     "metadata": {},
     "output_type": "execute_result"
    }
   ],
   "source": [
    "water_data[\"public_meeting\"].value_counts()"
   ]
  },
  {
   "cell_type": "markdown",
   "metadata": {},
   "source": [
    "##### We are going to keep this column for our analysis. It helps us further understand our analysis\n",
    "\n",
    "### 3.18 recorded_by\n",
    "##### Represents the entity or group responsible for entering or recording the data for each row in the dataset. This column often contains information about the organization, individual, or group that performed the data entry or data collection process.\n",
    "\n"
   ]
  },
  {
   "cell_type": "code",
   "execution_count": 44,
   "metadata": {},
   "outputs": [
    {
     "data": {
      "text/plain": [
       "recorded_by\n",
       "GeoData Consultants Ltd    59400\n",
       "Name: count, dtype: int64"
      ]
     },
     "execution_count": 44,
     "metadata": {},
     "output_type": "execute_result"
    }
   ],
   "source": [
    "water_data[\"recorded_by\"].value_counts()"
   ]
  },
  {
   "cell_type": "markdown",
   "metadata": {},
   "source": [
    "##### This dataset was collected by the GeoData Consultants Ltd. Since we already know the group responsible for this data we can drop it since we wouldn't need it in our analysis"
   ]
  },
  {
   "cell_type": "code",
   "execution_count": 45,
   "metadata": {},
   "outputs": [],
   "source": [
    "water_data = water_data.drop(\"recorded_by\", axis= 1)"
   ]
  },
  {
   "cell_type": "markdown",
   "metadata": {},
   "source": [
    "### 3.19 permit\n",
    "##### What this column indicates is whether a water point or water source has the necessary legal or official permit or authorization to operate."
   ]
  },
  {
   "cell_type": "code",
   "execution_count": 46,
   "metadata": {},
   "outputs": [
    {
     "data": {
      "text/plain": [
       "permit\n",
       "True     38852\n",
       "False    17492\n",
       "Name: count, dtype: int64"
      ]
     },
     "execution_count": 46,
     "metadata": {},
     "output_type": "execute_result"
    }
   ],
   "source": [
    "water_data[\"permit\"].value_counts()"
   ]
  },
  {
   "cell_type": "markdown",
   "metadata": {},
   "source": [
    "##### It is important column since it helps in our analysis of predicting whether a pump is functional, non-functional or functional but needs repair\n",
    "\n",
    "### 3.20 date_recorded, construction_year, id\n",
    "\n",
    "##### This columns are not important or needed for our analysis so we drop them"
   ]
  },
  {
   "cell_type": "code",
   "execution_count": 47,
   "metadata": {},
   "outputs": [],
   "source": [
    "water_data = water_data.drop([\"date_recorded\", \"construction_year\"], axis= 1)"
   ]
  },
  {
   "cell_type": "markdown",
   "metadata": {},
   "source": [
    "##### Resetting our index so it can be on the same axis with other columns and dropping it since we don't need it in our analysis. "
   ]
  },
  {
   "cell_type": "code",
   "execution_count": 48,
   "metadata": {},
   "outputs": [],
   "source": [
    "#reseting the index and dropping it\n",
    "water_data = water_data.reset_index(drop=True) \n"
   ]
  },
  {
   "cell_type": "markdown",
   "metadata": {},
   "source": [
    "#### Let us have a look on how our new data looks like after dropping the columns we did see not fit for our analysis. We are going to inspect the first five rows"
   ]
  },
  {
   "cell_type": "code",
   "execution_count": 49,
   "metadata": {},
   "outputs": [
    {
     "data": {
      "text/html": [
       "<div>\n",
       "<style scoped>\n",
       "    .dataframe tbody tr th:only-of-type {\n",
       "        vertical-align: middle;\n",
       "    }\n",
       "\n",
       "    .dataframe tbody tr th {\n",
       "        vertical-align: top;\n",
       "    }\n",
       "\n",
       "    .dataframe thead th {\n",
       "        text-align: right;\n",
       "    }\n",
       "</style>\n",
       "<table border=\"1\" class=\"dataframe\">\n",
       "  <thead>\n",
       "    <tr style=\"text-align: right;\">\n",
       "      <th></th>\n",
       "      <th>status_group</th>\n",
       "      <th>amount_tsh</th>\n",
       "      <th>gps_height</th>\n",
       "      <th>installer</th>\n",
       "      <th>longitude</th>\n",
       "      <th>latitude</th>\n",
       "      <th>basin</th>\n",
       "      <th>region</th>\n",
       "      <th>lga</th>\n",
       "      <th>population</th>\n",
       "      <th>...</th>\n",
       "      <th>permit</th>\n",
       "      <th>extraction_type_group</th>\n",
       "      <th>management</th>\n",
       "      <th>management_group</th>\n",
       "      <th>payment_type</th>\n",
       "      <th>water_quality</th>\n",
       "      <th>quantity</th>\n",
       "      <th>source</th>\n",
       "      <th>source_class</th>\n",
       "      <th>waterpoint_type</th>\n",
       "    </tr>\n",
       "  </thead>\n",
       "  <tbody>\n",
       "    <tr>\n",
       "      <th>0</th>\n",
       "      <td>functional</td>\n",
       "      <td>6000.0</td>\n",
       "      <td>1390</td>\n",
       "      <td>Roman</td>\n",
       "      <td>34.938093</td>\n",
       "      <td>-9.856322</td>\n",
       "      <td>Lake Nyasa</td>\n",
       "      <td>Iringa</td>\n",
       "      <td>Ludewa</td>\n",
       "      <td>109</td>\n",
       "      <td>...</td>\n",
       "      <td>False</td>\n",
       "      <td>gravity</td>\n",
       "      <td>vwc</td>\n",
       "      <td>user-group</td>\n",
       "      <td>annually</td>\n",
       "      <td>soft</td>\n",
       "      <td>enough</td>\n",
       "      <td>spring</td>\n",
       "      <td>groundwater</td>\n",
       "      <td>communal standpipe</td>\n",
       "    </tr>\n",
       "    <tr>\n",
       "      <th>1</th>\n",
       "      <td>functional</td>\n",
       "      <td>0.0</td>\n",
       "      <td>1399</td>\n",
       "      <td>GRUMETI</td>\n",
       "      <td>34.698766</td>\n",
       "      <td>-2.147466</td>\n",
       "      <td>Lake Victoria</td>\n",
       "      <td>Mara</td>\n",
       "      <td>Serengeti</td>\n",
       "      <td>280</td>\n",
       "      <td>...</td>\n",
       "      <td>True</td>\n",
       "      <td>gravity</td>\n",
       "      <td>wug</td>\n",
       "      <td>user-group</td>\n",
       "      <td>never pay</td>\n",
       "      <td>soft</td>\n",
       "      <td>insufficient</td>\n",
       "      <td>rainwater harvesting</td>\n",
       "      <td>surface</td>\n",
       "      <td>communal standpipe</td>\n",
       "    </tr>\n",
       "    <tr>\n",
       "      <th>2</th>\n",
       "      <td>functional</td>\n",
       "      <td>25.0</td>\n",
       "      <td>686</td>\n",
       "      <td>World vision</td>\n",
       "      <td>37.460664</td>\n",
       "      <td>-3.821329</td>\n",
       "      <td>Pangani</td>\n",
       "      <td>Manyara</td>\n",
       "      <td>Simanjiro</td>\n",
       "      <td>250</td>\n",
       "      <td>...</td>\n",
       "      <td>True</td>\n",
       "      <td>gravity</td>\n",
       "      <td>vwc</td>\n",
       "      <td>user-group</td>\n",
       "      <td>per bucket</td>\n",
       "      <td>soft</td>\n",
       "      <td>enough</td>\n",
       "      <td>dam</td>\n",
       "      <td>surface</td>\n",
       "      <td>communal standpipe multiple</td>\n",
       "    </tr>\n",
       "    <tr>\n",
       "      <th>3</th>\n",
       "      <td>non functional</td>\n",
       "      <td>0.0</td>\n",
       "      <td>263</td>\n",
       "      <td>UNICEF</td>\n",
       "      <td>38.486161</td>\n",
       "      <td>-11.155298</td>\n",
       "      <td>Ruvuma / Southern Coast</td>\n",
       "      <td>Mtwara</td>\n",
       "      <td>Nanyumbu</td>\n",
       "      <td>58</td>\n",
       "      <td>...</td>\n",
       "      <td>True</td>\n",
       "      <td>submersible</td>\n",
       "      <td>vwc</td>\n",
       "      <td>user-group</td>\n",
       "      <td>never pay</td>\n",
       "      <td>soft</td>\n",
       "      <td>dry</td>\n",
       "      <td>machine dbh</td>\n",
       "      <td>groundwater</td>\n",
       "      <td>communal standpipe multiple</td>\n",
       "    </tr>\n",
       "    <tr>\n",
       "      <th>4</th>\n",
       "      <td>functional</td>\n",
       "      <td>0.0</td>\n",
       "      <td>0</td>\n",
       "      <td>Artisan</td>\n",
       "      <td>31.130847</td>\n",
       "      <td>-1.825359</td>\n",
       "      <td>Lake Victoria</td>\n",
       "      <td>Kagera</td>\n",
       "      <td>Karagwe</td>\n",
       "      <td>0</td>\n",
       "      <td>...</td>\n",
       "      <td>True</td>\n",
       "      <td>gravity</td>\n",
       "      <td>other</td>\n",
       "      <td>other</td>\n",
       "      <td>never pay</td>\n",
       "      <td>soft</td>\n",
       "      <td>seasonal</td>\n",
       "      <td>rainwater harvesting</td>\n",
       "      <td>surface</td>\n",
       "      <td>communal standpipe</td>\n",
       "    </tr>\n",
       "  </tbody>\n",
       "</table>\n",
       "<p>5 rows × 21 columns</p>\n",
       "</div>"
      ],
      "text/plain": [
       "     status_group  amount_tsh  gps_height     installer  longitude   latitude  \\\n",
       "0      functional      6000.0        1390         Roman  34.938093  -9.856322   \n",
       "1      functional         0.0        1399       GRUMETI  34.698766  -2.147466   \n",
       "2      functional        25.0         686  World vision  37.460664  -3.821329   \n",
       "3  non functional         0.0         263        UNICEF  38.486161 -11.155298   \n",
       "4      functional         0.0           0       Artisan  31.130847  -1.825359   \n",
       "\n",
       "                     basin   region        lga  population  ... permit  \\\n",
       "0               Lake Nyasa   Iringa     Ludewa         109  ...  False   \n",
       "1            Lake Victoria     Mara  Serengeti         280  ...   True   \n",
       "2                  Pangani  Manyara  Simanjiro         250  ...   True   \n",
       "3  Ruvuma / Southern Coast   Mtwara   Nanyumbu          58  ...   True   \n",
       "4            Lake Victoria   Kagera    Karagwe           0  ...   True   \n",
       "\n",
       "  extraction_type_group management management_group payment_type  \\\n",
       "0               gravity        vwc       user-group     annually   \n",
       "1               gravity        wug       user-group    never pay   \n",
       "2               gravity        vwc       user-group   per bucket   \n",
       "3           submersible        vwc       user-group    never pay   \n",
       "4               gravity      other            other    never pay   \n",
       "\n",
       "  water_quality      quantity                source source_class  \\\n",
       "0          soft        enough                spring  groundwater   \n",
       "1          soft  insufficient  rainwater harvesting      surface   \n",
       "2          soft        enough                   dam      surface   \n",
       "3          soft           dry           machine dbh  groundwater   \n",
       "4          soft      seasonal  rainwater harvesting      surface   \n",
       "\n",
       "               waterpoint_type  \n",
       "0           communal standpipe  \n",
       "1           communal standpipe  \n",
       "2  communal standpipe multiple  \n",
       "3  communal standpipe multiple  \n",
       "4           communal standpipe  \n",
       "\n",
       "[5 rows x 21 columns]"
      ]
     },
     "execution_count": 49,
     "metadata": {},
     "output_type": "execute_result"
    }
   ],
   "source": [
    "#inspecting our new dataframe\n",
    "water_data.head()"
   ]
  },
  {
   "cell_type": "code",
   "execution_count": 50,
   "metadata": {},
   "outputs": [
    {
     "name": "stdout",
     "output_type": "stream",
     "text": [
      "<class 'pandas.core.frame.DataFrame'>\n",
      "RangeIndex: 59400 entries, 0 to 59399\n",
      "Data columns (total 21 columns):\n",
      " #   Column                 Non-Null Count  Dtype  \n",
      "---  ------                 --------------  -----  \n",
      " 0   status_group           59400 non-null  object \n",
      " 1   amount_tsh             59400 non-null  float64\n",
      " 2   gps_height             59400 non-null  int64  \n",
      " 3   installer              55745 non-null  object \n",
      " 4   longitude              59400 non-null  float64\n",
      " 5   latitude               59400 non-null  float64\n",
      " 6   basin                  59400 non-null  object \n",
      " 7   region                 59400 non-null  object \n",
      " 8   lga                    59400 non-null  object \n",
      " 9   population             59400 non-null  int64  \n",
      " 10  public_meeting         56066 non-null  object \n",
      " 11  permit                 56344 non-null  object \n",
      " 12  extraction_type_group  59400 non-null  object \n",
      " 13  management             59400 non-null  object \n",
      " 14  management_group       59400 non-null  object \n",
      " 15  payment_type           59400 non-null  object \n",
      " 16  water_quality          59400 non-null  object \n",
      " 17  quantity               59400 non-null  object \n",
      " 18  source                 59400 non-null  object \n",
      " 19  source_class           59400 non-null  object \n",
      " 20  waterpoint_type        59400 non-null  object \n",
      "dtypes: float64(3), int64(2), object(16)\n",
      "memory usage: 9.5+ MB\n"
     ]
    }
   ],
   "source": [
    "#data info\n",
    "water_data.info()"
   ]
  },
  {
   "cell_type": "markdown",
   "metadata": {},
   "source": [
    "Summary statistics of our numeric columns"
   ]
  },
  {
   "cell_type": "code",
   "execution_count": 51,
   "metadata": {},
   "outputs": [
    {
     "data": {
      "text/html": [
       "<div>\n",
       "<style scoped>\n",
       "    .dataframe tbody tr th:only-of-type {\n",
       "        vertical-align: middle;\n",
       "    }\n",
       "\n",
       "    .dataframe tbody tr th {\n",
       "        vertical-align: top;\n",
       "    }\n",
       "\n",
       "    .dataframe thead th {\n",
       "        text-align: right;\n",
       "    }\n",
       "</style>\n",
       "<table border=\"1\" class=\"dataframe\">\n",
       "  <thead>\n",
       "    <tr style=\"text-align: right;\">\n",
       "      <th></th>\n",
       "      <th>amount_tsh</th>\n",
       "      <th>gps_height</th>\n",
       "      <th>longitude</th>\n",
       "      <th>latitude</th>\n",
       "      <th>population</th>\n",
       "    </tr>\n",
       "  </thead>\n",
       "  <tbody>\n",
       "    <tr>\n",
       "      <th>count</th>\n",
       "      <td>59400.000000</td>\n",
       "      <td>59400.000000</td>\n",
       "      <td>59400.000000</td>\n",
       "      <td>5.940000e+04</td>\n",
       "      <td>59400.000000</td>\n",
       "    </tr>\n",
       "    <tr>\n",
       "      <th>mean</th>\n",
       "      <td>317.650385</td>\n",
       "      <td>668.297239</td>\n",
       "      <td>34.077427</td>\n",
       "      <td>-5.706033e+00</td>\n",
       "      <td>179.909983</td>\n",
       "    </tr>\n",
       "    <tr>\n",
       "      <th>std</th>\n",
       "      <td>2997.574558</td>\n",
       "      <td>693.116350</td>\n",
       "      <td>6.567432</td>\n",
       "      <td>2.946019e+00</td>\n",
       "      <td>471.482176</td>\n",
       "    </tr>\n",
       "    <tr>\n",
       "      <th>min</th>\n",
       "      <td>0.000000</td>\n",
       "      <td>-90.000000</td>\n",
       "      <td>0.000000</td>\n",
       "      <td>-1.164944e+01</td>\n",
       "      <td>0.000000</td>\n",
       "    </tr>\n",
       "    <tr>\n",
       "      <th>25%</th>\n",
       "      <td>0.000000</td>\n",
       "      <td>0.000000</td>\n",
       "      <td>33.090347</td>\n",
       "      <td>-8.540621e+00</td>\n",
       "      <td>0.000000</td>\n",
       "    </tr>\n",
       "    <tr>\n",
       "      <th>50%</th>\n",
       "      <td>0.000000</td>\n",
       "      <td>369.000000</td>\n",
       "      <td>34.908743</td>\n",
       "      <td>-5.021597e+00</td>\n",
       "      <td>25.000000</td>\n",
       "    </tr>\n",
       "    <tr>\n",
       "      <th>75%</th>\n",
       "      <td>20.000000</td>\n",
       "      <td>1319.250000</td>\n",
       "      <td>37.178387</td>\n",
       "      <td>-3.326156e+00</td>\n",
       "      <td>215.000000</td>\n",
       "    </tr>\n",
       "    <tr>\n",
       "      <th>max</th>\n",
       "      <td>350000.000000</td>\n",
       "      <td>2770.000000</td>\n",
       "      <td>40.345193</td>\n",
       "      <td>-2.000000e-08</td>\n",
       "      <td>30500.000000</td>\n",
       "    </tr>\n",
       "  </tbody>\n",
       "</table>\n",
       "</div>"
      ],
      "text/plain": [
       "          amount_tsh    gps_height     longitude      latitude    population\n",
       "count   59400.000000  59400.000000  59400.000000  5.940000e+04  59400.000000\n",
       "mean      317.650385    668.297239     34.077427 -5.706033e+00    179.909983\n",
       "std      2997.574558    693.116350      6.567432  2.946019e+00    471.482176\n",
       "min         0.000000    -90.000000      0.000000 -1.164944e+01      0.000000\n",
       "25%         0.000000      0.000000     33.090347 -8.540621e+00      0.000000\n",
       "50%         0.000000    369.000000     34.908743 -5.021597e+00     25.000000\n",
       "75%        20.000000   1319.250000     37.178387 -3.326156e+00    215.000000\n",
       "max    350000.000000   2770.000000     40.345193 -2.000000e-08  30500.000000"
      ]
     },
     "execution_count": 51,
     "metadata": {},
     "output_type": "execute_result"
    }
   ],
   "source": [
    "#summary statistics\n",
    "water_data.describe()"
   ]
  },
  {
   "cell_type": "markdown",
   "metadata": {},
   "source": [
    "The shape of our data"
   ]
  },
  {
   "cell_type": "code",
   "execution_count": 52,
   "metadata": {},
   "outputs": [
    {
     "data": {
      "text/plain": [
       "(59400, 21)"
      ]
     },
     "execution_count": 52,
     "metadata": {},
     "output_type": "execute_result"
    }
   ],
   "source": [
    "#shape\n",
    "water_data.shape"
   ]
  },
  {
   "cell_type": "markdown",
   "metadata": {},
   "source": [
    "We have 59400 rows and 21 columns in our data"
   ]
  },
  {
   "cell_type": "markdown",
   "metadata": {},
   "source": [
    "## 4. Dealing with missing values in our dataset.\n",
    "\n",
    "We have three columns with missing values which are \"installer\", \"public_meeting\" and \"permit\". All this columns are categorical so we can impute the missing values with the most frequent value in the columns. We are  going to use a simple imputer from sklearn module to help us do this job"
   ]
  },
  {
   "cell_type": "code",
   "execution_count": 53,
   "metadata": {},
   "outputs": [],
   "source": [
    "#columns to impute\n",
    "columns_to_impute = [\"installer\",\"permit\", \"public_meeting\"]\n",
    "#using pipeline to fill missing values along with simple imputer\n",
    "pipeline_imputer = Pipeline( steps= [\n",
    "    (\"imputer\", SimpleImputer(strategy= \"most_frequent\"))\n",
    "                            ])\n",
    "#calling ColumnTransformer\n",
    "preprocessor = ColumnTransformer(transformers=[\n",
    "    (\"imputer\", pipeline_imputer, columns_to_impute)]\n",
    "                                )\n",
    "#fitting our data\n",
    "imputed_data = preprocessor.fit_transform(water_data)\n",
    "#putting our imputed columns into a DataFrame\n",
    "imputed_data = pd.DataFrame(imputed_data, columns= ([\"installer\", \"permit\", \"public_meeting\"]))"
   ]
  },
  {
   "cell_type": "markdown",
   "metadata": {},
   "source": [
    "We are going to drop the columns with missing values and replace them with our new imputed DataFrame. The new DataFrame contains the same values as the columns we are dropping but has been imputed and has no missing values."
   ]
  },
  {
   "cell_type": "code",
   "execution_count": 54,
   "metadata": {},
   "outputs": [
    {
     "name": "stdout",
     "output_type": "stream",
     "text": [
      "<class 'pandas.core.frame.DataFrame'>\n",
      "RangeIndex: 59400 entries, 0 to 59399\n",
      "Data columns (total 21 columns):\n",
      " #   Column                 Non-Null Count  Dtype  \n",
      "---  ------                 --------------  -----  \n",
      " 0   status_group           59400 non-null  object \n",
      " 1   amount_tsh             59400 non-null  float64\n",
      " 2   gps_height             59400 non-null  int64  \n",
      " 3   longitude              59400 non-null  float64\n",
      " 4   latitude               59400 non-null  float64\n",
      " 5   basin                  59400 non-null  object \n",
      " 6   region                 59400 non-null  object \n",
      " 7   lga                    59400 non-null  object \n",
      " 8   population             59400 non-null  int64  \n",
      " 9   extraction_type_group  59400 non-null  object \n",
      " 10  management             59400 non-null  object \n",
      " 11  management_group       59400 non-null  object \n",
      " 12  payment_type           59400 non-null  object \n",
      " 13  water_quality          59400 non-null  object \n",
      " 14  quantity               59400 non-null  object \n",
      " 15  source                 59400 non-null  object \n",
      " 16  source_class           59400 non-null  object \n",
      " 17  waterpoint_type        59400 non-null  object \n",
      " 18  installer              59400 non-null  object \n",
      " 19  permit                 59400 non-null  object \n",
      " 20  public_meeting         59400 non-null  object \n",
      "dtypes: float64(3), int64(2), object(16)\n",
      "memory usage: 9.5+ MB\n"
     ]
    }
   ],
   "source": [
    "#dropping the initial columns\n",
    "water_data = water_data.drop([\"installer\", \"permit\", \"public_meeting\"], axis = 1)\n",
    "#concat the two df\n",
    "complete_data = pd.concat([water_data, imputed_data], axis= 1)\n",
    "#inspecting new dataframe\n",
    "complete_data.info()"
   ]
  },
  {
   "cell_type": "markdown",
   "metadata": {},
   "source": [
    "Perfecto! All our columns are now complete with none having any missing record. Our data is ready now for exploratory analysis but before that we are going to tweak some few columns. "
   ]
  },
  {
   "cell_type": "code",
   "execution_count": 55,
   "metadata": {},
   "outputs": [],
   "source": [
    "\n",
    "#replacing \"other - school\" with \"school\"\n",
    "complete_data.loc[:, \"management\"].replace(\"other - school\", \"School\", inplace = True)"
   ]
  },
  {
   "cell_type": "markdown",
   "metadata": {},
   "source": [
    "# 5. Exploratory Data Analysis (EDA)\n",
    "#### Now that our data is clean and ready for use, we are going to start exploratory analysis of our data. Plotting graphs and visuals is the main thing we are doing here in order to further understand visually what our data is communicating.\n",
    "\n",
    "## 5.1 Univariate EDA\n",
    "\n",
    "##### Writting two helper functions to helps us plot countplots for our univariate analysis."
   ]
  },
  {
   "cell_type": "code",
   "execution_count": 56,
   "metadata": {},
   "outputs": [],
   "source": [
    "#writting helper function to help us make x-axis countplots in our EDA process\n",
    "def sns_xcount(column , data):\n",
    "    sns.countplot(x = column, data = data)\n",
    "    plt.title(f\"{column} count in our data set\")\n",
    "    plt.show();\n",
    "\n",
    "#writting helper function to help us make y-axis countplots in our EDA process\n",
    "def sns_ycount(column , data):\n",
    "    sns.countplot(y = column, data = data)\n",
    "    plt.title(f\"{column} count in our data set\")\n",
    "    plt.show();\n",
    "\n"
   ]
  },
  {
   "cell_type": "markdown",
   "metadata": {},
   "source": [
    "##### The Distribution of our target class (\"status_group)"
   ]
  },
  {
   "cell_type": "code",
   "execution_count": 57,
   "metadata": {},
   "outputs": [
    {
     "data": {
      "image/png": "[encoded data removed]",
      "text/plain": [
       "<Figure size 640x480 with 1 Axes>"
      ]
     },
     "metadata": {},
     "output_type": "display_data"
    }
   ],
   "source": [
    "sns_xcount(\"status_group\", complete_data)"
   ]
  },
  {
   "cell_type": "markdown",
   "metadata": {},
   "source": [
    "##### We have three target class in our status column namely functional, non-functional and functional needs repair. The functional class is the highest with 32259 pumps followed by non-functional class with 22824 pumps and the least class is thefunctional needs repair with 4317 pumps\n",
    "\n",
    "##### The spread of our numerical columns"
   ]
  },
  {
   "cell_type": "code",
   "execution_count": 58,
   "metadata": {},
   "outputs": [
    {
     "data": {
      "image/png": "[encoded data removed]",
      "text/plain": [
       "<Figure size 1500x1000 with 6 Axes>"
      ]
     },
     "metadata": {},
     "output_type": "display_data"
    }
   ],
   "source": [
    "#numeric columns histograms\n",
    "x= np.sqrt(complete_data[\"amount_tsh\"].value_counts().sum()).astype(\"int\")\n",
    "complete_data.hist(figsize= (15, 10), bins= 100);"
   ]
  },
  {
   "cell_type": "markdown",
   "metadata": {},
   "source": [
    "The \"amount_tsh\" column typically represents the pressure exerted by a water column due to gravity and is usually measured in meters or feet. The top-left plot shows us that 0 \"amount_tsh\" is the most common value in our data. A value of 0, it often indicates that there is no static head or minimal pressure available at the water source and situation might imply several scenarios such as; insufficient water, non-functioning pump missing data or unknown values. I will analyze it further in our multivariate analysis\n",
    "\n",
    "Distribution of the altitude(\"gps_height) of the wells also has 0 as the highest group but has other values spread across a range of 0 to 2500metres above sea level.I will also analyze this column further since 0 might indicate a water source is at sea leavel or indicates missing values or unknown\n",
    "\n",
    "The \"population\" variable typically refers to the estimated or recorded number of people living in the vicinity or area surrounding a well or a water source. Zero is the popular group in this column also and this can indicate many things such as unhabited area or missing values etc. I will also do further analysis on this column\n",
    "\n",
    "#### basin - Geographic water basin"
   ]
  },
  {
   "cell_type": "code",
   "execution_count": 59,
   "metadata": {},
   "outputs": [
    {
     "data": {
      "image/png": "[encoded data removed]",
      "text/plain": [
       "<Figure size 640x480 with 1 Axes>"
      ]
     },
     "metadata": {},
     "output_type": "display_data"
    }
   ],
   "source": [
    "sns_ycount(\"basin\", complete_data)\n"
   ]
  },
  {
   "cell_type": "markdown",
   "metadata": {},
   "source": [
    "The water basins geographically located in Tanzania are nine in total. Lake Victoria is the largest in terms of body mass and Lake Rukwa holds the last position\n",
    "\n",
    "#### The regions under study"
   ]
  },
  {
   "cell_type": "code",
   "execution_count": 60,
   "metadata": {},
   "outputs": [
    {
     "data": {
      "image/png": "[encoded data removed]",
      "text/plain": [
       "<Figure size 640x480 with 1 Axes>"
      ]
     },
     "metadata": {},
     "output_type": "display_data"
    }
   ],
   "source": [
    "sns_ycount(\"region\", complete_data)"
   ]
  },
  {
   "cell_type": "markdown",
   "metadata": {},
   "source": [
    "We have 21 regions under study in our dataset. These regions represent where our water wells under research are located. Iringa has the most water points indicating that there is a large population living in this region. Dar es Salaam has the least count of water wells and this can indicate low population, insufficient water or poor water quality and quantity in this region.\n",
    "\n",
    "### Management"
   ]
  },
  {
   "cell_type": "code",
   "execution_count": 61,
   "metadata": {},
   "outputs": [
    {
     "data": {
      "image/png": "[encoded data removed]",
      "text/plain": [
       "<Figure size 640x480 with 1 Axes>"
      ]
     },
     "metadata": {},
     "output_type": "display_data"
    }
   ],
   "source": [
    "sns_ycount(\"management\", complete_data);\n"
   ]
  },
  {
   "cell_type": "markdown",
   "metadata": {},
   "source": [
    "The management columns tells us about the people incharge of running the water wells located in Tanzania. Most water wells in Tanzania are managed by the Village Water Community(VWC). This makes a lot of sense sinse Tanzania is a communist country. School and trust hold the least share for the water well management.\n",
    "The abbreviations of the values are explained here;\n",
    "  1. VWC - Village Water Community \n",
    "  2. WUG - Water User Group\n",
    "  3. WUA - Water User Association\n",
    "Both WUG and WUA are mainly involved in activities such as irrigation, maintaining water infrastructure, resolving issues related to water usage among other things\n",
    "\n",
    "### Management groups"
   ]
  },
  {
   "cell_type": "code",
   "execution_count": 62,
   "metadata": {},
   "outputs": [
    {
     "data": {
      "image/png": "[encoded data removed]",
      "text/plain": [
       "<Figure size 640x480 with 1 Axes>"
      ]
     },
     "metadata": {},
     "output_type": "display_data"
    }
   ],
   "source": [
    "sns_xcount(\"management_group\", complete_data)"
   ]
  },
  {
   "cell_type": "markdown",
   "metadata": {},
   "source": [
    "When the management group are further categorised or grouped we obtain 5 major classes of management bodies. Communism being a norm in this country user-group category has the winning hand.\n",
    "\n",
    "### Payment type"
   ]
  },
  {
   "cell_type": "code",
   "execution_count": 63,
   "metadata": {},
   "outputs": [
    {
     "data": {
      "image/png": "[encoded data removed]",
      "text/plain": [
       "<Figure size 640x480 with 1 Axes>"
      ]
     },
     "metadata": {},
     "output_type": "display_data"
    }
   ],
   "source": [
    "sns_ycount(\"payment_type\", complete_data)"
   ]
  },
  {
   "cell_type": "markdown",
   "metadata": {},
   "source": [
    "The means of payment for water in Tanzania has seven unique modes of payment. Most of the water wells are free and no charges are needed to access water. This is what the plot says as we can see most common mode of payment is \"never pay\". Our other plots on management concur with this as we can see most water wells are managed by the village community\n",
    "\n",
    "### Water quality"
   ]
  },
  {
   "cell_type": "code",
   "execution_count": 64,
   "metadata": {},
   "outputs": [
    {
     "data": {
      "image/png": "[encoded data removed]",
      "text/plain": [
       "<Figure size 640x480 with 1 Axes>"
      ]
     },
     "metadata": {},
     "output_type": "display_data"
    }
   ],
   "source": [
    "sns_ycount(\"water_quality\", complete_data)"
   ]
  },
  {
   "cell_type": "markdown",
   "metadata": {},
   "source": [
    "In terms of water quality, Tanzania is blessed with soft water. Soft water generally contains low concentrations of minerals like calcium and magnesium, leading to fewer issues related to limescale buildup in pipes and appliances. In Tanzania, having soft water can contribute to reduced instances of scale accumulation in plumbing systems and appliances, potentially minimizing maintenance and extending the lifespan of water-related infrastructure. \n",
    "\n",
    "### Water quantity"
   ]
  },
  {
   "cell_type": "code",
   "execution_count": 65,
   "metadata": {},
   "outputs": [
    {
     "data": {
      "image/png": "[encoded data removed]",
      "text/plain": [
       "<Figure size 640x480 with 1 Axes>"
      ]
     },
     "metadata": {},
     "output_type": "display_data"
    }
   ],
   "source": [
    "sns_ycount(\"quantity\", complete_data)"
   ]
  },
  {
   "cell_type": "markdown",
   "metadata": {},
   "source": [
    "From the dataset and visual above we can say that most water wells in Tanzania have enough water to sustain the population around it.We can see most wells holds enough capacity to meet the societies needs. It can also indicate that most of them are drought resistant.\n",
    "We can also see that almost a quarter of the wells contain insufficient water capacity to serve the people's needs\n",
    "\n",
    "### Source"
   ]
  },
  {
   "cell_type": "code",
   "execution_count": 66,
   "metadata": {},
   "outputs": [
    {
     "data": {
      "image/png": "[encoded data removed]",
      "text/plain": [
       "<Figure size 640x480 with 1 Axes>"
      ]
     },
     "metadata": {},
     "output_type": "display_data"
    }
   ],
   "source": [
    "sns_ycount(\"source\", complete_data)"
   ]
  },
  {
   "cell_type": "markdown",
   "metadata": {},
   "source": [
    "Spring and shallow well are the most prolific water sources in Tanzania. Boreholes and rivers come in second and third respectively. Rain harvesting is a little bit lower and this can indicate that most households are not modern and rely on grass thatched houses making it impossible to harvest rain water\n",
    "\n",
    "### Source class"
   ]
  },
  {
   "cell_type": "code",
   "execution_count": 67,
   "metadata": {},
   "outputs": [
    {
     "data": {
      "image/png": "[encoded data removed]",
      "text/plain": [
       "<Figure size 640x480 with 1 Axes>"
      ]
     },
     "metadata": {},
     "output_type": "display_data"
    }
   ],
   "source": [
    "sns_xcount(\"source_class\", complete_data)"
   ]
  },
  {
   "cell_type": "markdown",
   "metadata": {},
   "source": [
    "Sources of water with similar type of occurence can be further grouped mainly into groundwater and surface. The unknown are significantly minimal\n",
    "\n",
    "### Waterpoint type"
   ]
  },
  {
   "cell_type": "code",
   "execution_count": 68,
   "metadata": {},
   "outputs": [
    {
     "data": {
      "image/png": "[encoded data removed]",
      "text/plain": [
       "<Figure size 640x480 with 1 Axes>"
      ]
     },
     "metadata": {},
     "output_type": "display_data"
    }
   ],
   "source": [
    "sns_ycount(\"waterpoint_type\", complete_data)"
   ]
  },
  {
   "cell_type": "markdown",
   "metadata": {},
   "source": [
    "As we have seen earlier that communism is the spirit in Tanzania, we can also see here that most water wells have communal standpipe  as the infrastructure designed to provide access to data.The hand pump, communal standpipe multiple are also very popular designs of accessing water.\n",
    "\n",
    "### Permit"
   ]
  },
  {
   "cell_type": "code",
   "execution_count": 69,
   "metadata": {},
   "outputs": [
    {
     "data": {
      "image/png": "[encoded data removed]",
      "text/plain": [
       "<Figure size 640x480 with 1 Axes>"
      ]
     },
     "metadata": {},
     "output_type": "display_data"
    }
   ],
   "source": [
    "sns_xcount(\"permit\", complete_data)"
   ]
  },
  {
   "cell_type": "markdown",
   "metadata": {},
   "source": [
    "Most water wells in Tanzania have permits to operate and provide water. Our visual indicates that most water points have obtained the necessary permission, authorization, or legal approval to operate from the appropriate governing bodies. This may involve compliance with regulations and standards set by local or national authorities.The water points with no permits may indicate that the water source is operating without official permission, potentially raising concerns about its compliance with safety, health, or regulatory standards.\n",
    "\n",
    "### Public meeting"
   ]
  },
  {
   "cell_type": "code",
   "execution_count": 70,
   "metadata": {},
   "outputs": [
    {
     "data": {
      "image/png": "[encoded data removed]",
      "text/plain": [
       "<Figure size 640x480 with 1 Axes>"
      ]
     },
     "metadata": {},
     "output_type": "display_data"
    }
   ],
   "source": [
    "sns_xcount(\"public_meeting\", complete_data)"
   ]
  },
  {
   "cell_type": "markdown",
   "metadata": {},
   "source": [
    "There is public participation whenever issues or concerns about the water points arise. From the data True means that a public meeting or community gathering has occurred to discuss matters related to water services, infrastructure, or projects such as waterquality, maintenance etc.  False means there hasn't been a recorded public meeting or community gathering related to water-related issues or projects. This can indicate a lack of organized discussions or forums within the community about water related  issues.\n",
    "\n",
    "## 5.2 Multivariate EDA\n",
    "\n",
    "##### The process here involves examining relationships, patterns, and interactions between multiple variables simultaneously within  our dataset. \n",
    "\n",
    "##### Relationship between pump status and the other columns in our dataset"
   ]
  },
  {
   "cell_type": "code",
   "execution_count": 71,
   "metadata": {},
   "outputs": [
    {
     "ename": "ModuleNotFoundError",
     "evalue": "No module named 'cartopy'",
     "output_type": "error",
     "traceback": [
      "\u001b[0;31m---------------------------------------------------------------------------\u001b[0m",
      "\u001b[0;31mModuleNotFoundError\u001b[0m                       Traceback (most recent call last)",
      "\u001b[1;32m/home/ezra_analytics/Desktop/Moringa_projects/Classification-model/index.ipynb Cell 138\u001b[0m line \u001b[0;36m1\n\u001b[0;32m----> <a href='vscode-notebook-cell:/home/ezra_analytics/Desktop/Moringa_projects/Classification-model/index.ipynb#Y254sZmlsZQ%3D%3D?line=0'>1</a>\u001b[0m \u001b[39mimport\u001b[39;00m \u001b[39mcartopy\u001b[39;00m\u001b[39m.\u001b[39;00m\u001b[39mcrs\u001b[39;00m \u001b[39mas\u001b[39;00m \u001b[39mccrs\u001b[39;00m\n\u001b[1;32m      <a href='vscode-notebook-cell:/home/ezra_analytics/Desktop/Moringa_projects/Classification-model/index.ipynb#Y254sZmlsZQ%3D%3D?line=2'>3</a>\u001b[0m \u001b[39m# Assuming 'complete_data' is your DataFrame with longitude and latitude columns for pump locations\u001b[39;00m\n\u001b[1;32m      <a href='vscode-notebook-cell:/home/ezra_analytics/Desktop/Moringa_projects/Classification-model/index.ipynb#Y254sZmlsZQ%3D%3D?line=3'>4</a>\u001b[0m \u001b[39m# Replace 'complete_data' with your actual DataFrame name and column names\u001b[39;00m\n\u001b[1;32m      <a href='vscode-notebook-cell:/home/ezra_analytics/Desktop/Moringa_projects/Classification-model/index.ipynb#Y254sZmlsZQ%3D%3D?line=4'>5</a>\u001b[0m \n\u001b[1;32m      <a href='vscode-notebook-cell:/home/ezra_analytics/Desktop/Moringa_projects/Classification-model/index.ipynb#Y254sZmlsZQ%3D%3D?line=5'>6</a>\u001b[0m \u001b[39m# Create a plot\u001b[39;00m\n\u001b[1;32m      <a href='vscode-notebook-cell:/home/ezra_analytics/Desktop/Moringa_projects/Classification-model/index.ipynb#Y254sZmlsZQ%3D%3D?line=6'>7</a>\u001b[0m plt\u001b[39m.\u001b[39mfigure(figsize\u001b[39m=\u001b[39m(\u001b[39m10\u001b[39m, \u001b[39m6\u001b[39m))\n",
      "\u001b[0;31mModuleNotFoundError\u001b[0m: No module named 'cartopy'"
     ]
    }
   ],
   "source": [
    "import cartopy.crs as ccrs\n",
    "\n",
    "# Assuming 'complete_data' is your DataFrame with longitude and latitude columns for pump locations\n",
    "# Replace 'complete_data' with your actual DataFrame name and column names\n",
    "\n",
    "# Create a plot\n",
    "plt.figure(figsize=(10, 6))\n",
    "\n",
    "# Set up the map projection\n",
    "ax = plt.axes(projection=ccrs.PlateCarree())\n",
    "\n",
    "# Plot pumps as scatter points on the map\n",
    "ax.scatter(complete_data['longitude'], complete_data['latitude'], color='blue', s=5, label='pumps')\n",
    "\n",
    "# Add map features like coastlines, borders, etc. (optional)\n",
    "ax.coastlines()\n",
    "\n",
    "# Set the title and legend\n",
    "plt.title('Distribution of Pumps')\n",
    "plt.legend()\n",
    "\n",
    "# Show the plot\n",
    "plt.show()"
   ]
  },
  {
   "cell_type": "code",
   "execution_count": null,
   "metadata": {},
   "outputs": [],
   "source": [
    "import matplotlib.pyplot as plt\n",
    "import cartopy.crs as ccrs\n",
    "import pandas as pd\n",
    "\n",
    "# Example DataFrame 'complete_data' containing longitude, latitude, and pump class columns\n",
    "# Replace 'complete_data' with your actual DataFrame name and column names\n",
    "\n",
    "# Generate sample data (replace this with your actual data)\n",
    "data = {\n",
    "    'longitude': [34.8234, 34.9765, 34.6542, 35.1245],\n",
    "    'latitude': [-1.2846, -1.0564, -1.4783, -1.9632],\n",
    "    'pump_class': ['Functional', 'Needs Repair', 'Functional', 'Non-Functional']\n",
    "}\n",
    "complete_data = pd.DataFrame(data)\n",
    "\n",
    "# Create a plot with a map\n",
    "plt.figure(figsize=(10, 6))\n",
    "ax = plt.axes(projection=ccrs.PlateCarree())\n",
    "\n",
    "# Plot the map (coastlines, borders, etc.)\n",
    "ax.coastlines()\n",
    "\n",
    "# Define colors for different pump classes\n",
    "colors = {'Functional': 'green', 'Needs Repair': 'orange', 'Non-Functional': 'red'}\n",
    "\n",
    "# Plot pumps of different classes on the map\n",
    "for pump_class, color in colors.items():\n",
    "    subset = complete_data[complete_data['pump_class'] == pump_class]\n",
    "    ax.scatter(subset['longitude'], subset['latitude'], color=color, label=pump_class, s=10)\n",
    "\n",
    "# Set title and legend\n",
    "plt.title('Distribution of Pump Classes on Map')\n",
    "plt.legend()\n",
    "\n",
    "# Show the plot\n",
    "plt.show()\n"
   ]
  }
 ],
 "metadata": {
  "kernelspec": {
   "display_name": "base",
   "language": "python",
   "name": "python3"
  },
  "language_info": {
   "codemirror_mode": {
    "name": "ipython",
    "version": 3
   },
   "file_extension": ".py",
   "mimetype": "text/x-python",
   "name": "python",
   "nbconvert_exporter": "python",
   "pygments_lexer": "ipython3",
   "version": "3.11.5"
  }
 },
 "nbformat": 4,
 "nbformat_minor": 2
}
